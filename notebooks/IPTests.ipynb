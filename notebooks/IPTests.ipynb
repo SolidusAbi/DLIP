{
 "metadata": {
  "language_info": {
   "codemirror_mode": {
    "name": "ipython",
    "version": 3
   },
   "file_extension": ".py",
   "mimetype": "text/x-python",
   "name": "python",
   "nbconvert_exporter": "python",
   "pygments_lexer": "ipython3",
   "version": "3.7.4-final"
  },
  "orig_nbformat": 2,
  "kernelspec": {
   "name": "python_defaultSpec_1600164164009",
   "display_name": "Python 3.7.4 64-bit ('DeepLearning': conda)"
  }
 },
 "nbformat": 4,
 "nbformat_minor": 2,
 "cells": [
  {
   "cell_type": "code",
   "execution_count": 1,
   "metadata": {},
   "outputs": [],
   "source": [
    "project_dir = os.path.split(os.getcwd())[0]\n",
    "if project_dir not in sys.path:\n",
    "    sys.path.append(project_dir)"
   ]
  },
  {
   "cell_type": "code",
   "execution_count": 2,
   "metadata": {},
   "outputs": [],
   "source": [
    "import torch\n",
    "from torch import nn\n",
    "from torch.utils.data import DataLoader\n",
    "from torch.nn.functional import one_hot\n",
    "\n",
    "import torchvision\n",
    "from torchvision.transforms import Compose, ToTensor, ToPILImage, Normalize\n",
    "\n",
    "import numpy as np\n",
    "from matplotlib import pyplot as plt\n",
    "import random\n",
    "\n",
    "\n",
    "from InformationPlane import TensorKernel, MatrixBasedRenyisEntropy, RKHSMatrixOptimizer, InformationPlane\n",
    "from models.Paper import CNN"
   ]
  },
  {
   "source": [
    "### Load MNIST dataset"
   ],
   "cell_type": "markdown",
   "metadata": {}
  },
  {
   "cell_type": "code",
   "execution_count": 3,
   "metadata": {
    "tags": []
   },
   "outputs": [],
   "source": [
    "transformToTensor = Compose([ ToTensor(), Normalize((0.1307,), (0.3081,))])\n",
    "# transformToTensor = Compose([ ToTensor()])\n",
    "\n",
    "transformToImage = Compose([  Normalize((-0.1307/0.3081,), (1/0.3081,)), ToPILImage()])\n",
    "# transformToImage = Compose([ ToPILImage()])\n",
    "\n",
    "dataset = torchvision.datasets.MNIST(\"../datasets/MNIST/\", train=True, download=True, transform=transformToTensor)\n",
    "\n",
    "dataloader = DataLoader(dataset, batch_size=250, shuffle=True, num_workers=0)"
   ]
  },
  {
   "source": [
    "### Preparing test\n"
   ],
   "cell_type": "markdown",
   "metadata": {}
  },
  {
   "cell_type": "code",
   "execution_count": 4,
   "metadata": {
    "tags": []
   },
   "outputs": [
    {
     "output_type": "display_data",
     "data": {
      "text/plain": "<Figure size 432x288 with 1 Axes>",
      "image/svg+xml": "<?xml version=\"1.0\" encoding=\"utf-8\" standalone=\"no\"?>\n<!DOCTYPE svg PUBLIC \"-//W3C//DTD SVG 1.1//EN\"\n  \"http://www.w3.org/Graphics/SVG/1.1/DTD/svg11.dtd\">\n<!-- Created with matplotlib (https://matplotlib.org/) -->\n<svg height=\"248.518125pt\" version=\"1.1\" viewBox=\"0 0 251.565 248.518125\" width=\"251.565pt\" xmlns=\"http://www.w3.org/2000/svg\" xmlns:xlink=\"http://www.w3.org/1999/xlink\">\n <defs>\n  <style type=\"text/css\">\n*{stroke-linecap:butt;stroke-linejoin:round;white-space:pre;}\n  </style>\n </defs>\n <g id=\"figure_1\">\n  <g id=\"patch_1\">\n   <path d=\"M 0 248.518125 \nL 251.565 248.518125 \nL 251.565 0 \nL 0 0 \nz\n\" style=\"fill:none;\"/>\n  </g>\n  <g id=\"axes_1\">\n   <g id=\"patch_2\">\n    <path d=\"M 26.925 224.64 \nL 244.365 224.64 \nL 244.365 7.2 \nL 26.925 7.2 \nz\n\" style=\"fill:#ffffff;\"/>\n   </g>\n   <g clip-path=\"url(#pfcba132b0c)\">\n    <image height=\"218\" id=\"image2da84b432c\" transform=\"scale(1 -1)translate(0 -218)\" width=\"218\" x=\"26.925\" xlink:href=\"data:image/png;base64,\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\" y=\"-6.64\"/>\n   </g>\n   <g id=\"matplotlib.axis_1\">\n    <g id=\"xtick_1\">\n     <g id=\"line2d_1\">\n      <defs>\n       <path d=\"M 0 0 \nL 0 3.5 \n\" id=\"mcf5b5ea0f8\" style=\"stroke:#000000;stroke-width:0.8;\"/>\n      </defs>\n      <g>\n       <use style=\"stroke:#000000;stroke-width:0.8;\" x=\"30.807857\" xlink:href=\"#mcf5b5ea0f8\" y=\"224.64\"/>\n      </g>\n     </g>\n     <g id=\"text_1\">\n      <!-- 0 -->\n      <defs>\n       <path d=\"M 31.78125 66.40625 \nQ 24.171875 66.40625 20.328125 58.90625 \nQ 16.5 51.421875 16.5 36.375 \nQ 16.5 21.390625 20.328125 13.890625 \nQ 24.171875 6.390625 31.78125 6.390625 \nQ 39.453125 6.390625 43.28125 13.890625 \nQ 47.125 21.390625 47.125 36.375 \nQ 47.125 51.421875 43.28125 58.90625 \nQ 39.453125 66.40625 31.78125 66.40625 \nz\nM 31.78125 74.21875 \nQ 44.046875 74.21875 50.515625 64.515625 \nQ 56.984375 54.828125 56.984375 36.375 \nQ 56.984375 17.96875 50.515625 8.265625 \nQ 44.046875 -1.421875 31.78125 -1.421875 \nQ 19.53125 -1.421875 13.0625 8.265625 \nQ 6.59375 17.96875 6.59375 36.375 \nQ 6.59375 54.828125 13.0625 64.515625 \nQ 19.53125 74.21875 31.78125 74.21875 \nz\n\" id=\"DejaVuSans-48\"/>\n      </defs>\n      <g transform=\"translate(27.626607 239.238437)scale(0.1 -0.1)\">\n       <use xlink:href=\"#DejaVuSans-48\"/>\n      </g>\n     </g>\n    </g>\n    <g id=\"xtick_2\">\n     <g id=\"line2d_2\">\n      <g>\n       <use style=\"stroke:#000000;stroke-width:0.8;\" x=\"69.636429\" xlink:href=\"#mcf5b5ea0f8\" y=\"224.64\"/>\n      </g>\n     </g>\n     <g id=\"text_2\">\n      <!-- 5 -->\n      <defs>\n       <path d=\"M 10.796875 72.90625 \nL 49.515625 72.90625 \nL 49.515625 64.59375 \nL 19.828125 64.59375 \nL 19.828125 46.734375 \nQ 21.96875 47.46875 24.109375 47.828125 \nQ 26.265625 48.1875 28.421875 48.1875 \nQ 40.625 48.1875 47.75 41.5 \nQ 54.890625 34.8125 54.890625 23.390625 \nQ 54.890625 11.625 47.5625 5.09375 \nQ 40.234375 -1.421875 26.90625 -1.421875 \nQ 22.3125 -1.421875 17.546875 -0.640625 \nQ 12.796875 0.140625 7.71875 1.703125 \nL 7.71875 11.625 \nQ 12.109375 9.234375 16.796875 8.0625 \nQ 21.484375 6.890625 26.703125 6.890625 \nQ 35.15625 6.890625 40.078125 11.328125 \nQ 45.015625 15.765625 45.015625 23.390625 \nQ 45.015625 31 40.078125 35.4375 \nQ 35.15625 39.890625 26.703125 39.890625 \nQ 22.75 39.890625 18.8125 39.015625 \nQ 14.890625 38.140625 10.796875 36.28125 \nz\n\" id=\"DejaVuSans-53\"/>\n      </defs>\n      <g transform=\"translate(66.455179 239.238437)scale(0.1 -0.1)\">\n       <use xlink:href=\"#DejaVuSans-53\"/>\n      </g>\n     </g>\n    </g>\n    <g id=\"xtick_3\">\n     <g id=\"line2d_3\">\n      <g>\n       <use style=\"stroke:#000000;stroke-width:0.8;\" x=\"108.465\" xlink:href=\"#mcf5b5ea0f8\" y=\"224.64\"/>\n      </g>\n     </g>\n     <g id=\"text_3\">\n      <!-- 10 -->\n      <defs>\n       <path d=\"M 12.40625 8.296875 \nL 28.515625 8.296875 \nL 28.515625 63.921875 \nL 10.984375 60.40625 \nL 10.984375 69.390625 \nL 28.421875 72.90625 \nL 38.28125 72.90625 \nL 38.28125 8.296875 \nL 54.390625 8.296875 \nL 54.390625 0 \nL 12.40625 0 \nz\n\" id=\"DejaVuSans-49\"/>\n      </defs>\n      <g transform=\"translate(102.1025 239.238437)scale(0.1 -0.1)\">\n       <use xlink:href=\"#DejaVuSans-49\"/>\n       <use x=\"63.623047\" xlink:href=\"#DejaVuSans-48\"/>\n      </g>\n     </g>\n    </g>\n    <g id=\"xtick_4\">\n     <g id=\"line2d_4\">\n      <g>\n       <use style=\"stroke:#000000;stroke-width:0.8;\" x=\"147.293571\" xlink:href=\"#mcf5b5ea0f8\" y=\"224.64\"/>\n      </g>\n     </g>\n     <g id=\"text_4\">\n      <!-- 15 -->\n      <g transform=\"translate(140.931071 239.238437)scale(0.1 -0.1)\">\n       <use xlink:href=\"#DejaVuSans-49\"/>\n       <use x=\"63.623047\" xlink:href=\"#DejaVuSans-53\"/>\n      </g>\n     </g>\n    </g>\n    <g id=\"xtick_5\">\n     <g id=\"line2d_5\">\n      <g>\n       <use style=\"stroke:#000000;stroke-width:0.8;\" x=\"186.122143\" xlink:href=\"#mcf5b5ea0f8\" y=\"224.64\"/>\n      </g>\n     </g>\n     <g id=\"text_5\">\n      <!-- 20 -->\n      <defs>\n       <path d=\"M 19.1875 8.296875 \nL 53.609375 8.296875 \nL 53.609375 0 \nL 7.328125 0 \nL 7.328125 8.296875 \nQ 12.9375 14.109375 22.625 23.890625 \nQ 32.328125 33.6875 34.8125 36.53125 \nQ 39.546875 41.84375 41.421875 45.53125 \nQ 43.3125 49.21875 43.3125 52.78125 \nQ 43.3125 58.59375 39.234375 62.25 \nQ 35.15625 65.921875 28.609375 65.921875 \nQ 23.96875 65.921875 18.8125 64.3125 \nQ 13.671875 62.703125 7.8125 59.421875 \nL 7.8125 69.390625 \nQ 13.765625 71.78125 18.9375 73 \nQ 24.125 74.21875 28.421875 74.21875 \nQ 39.75 74.21875 46.484375 68.546875 \nQ 53.21875 62.890625 53.21875 53.421875 \nQ 53.21875 48.921875 51.53125 44.890625 \nQ 49.859375 40.875 45.40625 35.40625 \nQ 44.1875 33.984375 37.640625 27.21875 \nQ 31.109375 20.453125 19.1875 8.296875 \nz\n\" id=\"DejaVuSans-50\"/>\n      </defs>\n      <g transform=\"translate(179.759643 239.238437)scale(0.1 -0.1)\">\n       <use xlink:href=\"#DejaVuSans-50\"/>\n       <use x=\"63.623047\" xlink:href=\"#DejaVuSans-48\"/>\n      </g>\n     </g>\n    </g>\n    <g id=\"xtick_6\">\n     <g id=\"line2d_6\">\n      <g>\n       <use style=\"stroke:#000000;stroke-width:0.8;\" x=\"224.950714\" xlink:href=\"#mcf5b5ea0f8\" y=\"224.64\"/>\n      </g>\n     </g>\n     <g id=\"text_6\">\n      <!-- 25 -->\n      <g transform=\"translate(218.588214 239.238437)scale(0.1 -0.1)\">\n       <use xlink:href=\"#DejaVuSans-50\"/>\n       <use x=\"63.623047\" xlink:href=\"#DejaVuSans-53\"/>\n      </g>\n     </g>\n    </g>\n   </g>\n   <g id=\"matplotlib.axis_2\">\n    <g id=\"ytick_1\">\n     <g id=\"line2d_7\">\n      <defs>\n       <path d=\"M 0 0 \nL -3.5 0 \n\" id=\"m728dbadc83\" style=\"stroke:#000000;stroke-width:0.8;\"/>\n      </defs>\n      <g>\n       <use style=\"stroke:#000000;stroke-width:0.8;\" x=\"26.925\" xlink:href=\"#m728dbadc83\" y=\"11.082857\"/>\n      </g>\n     </g>\n     <g id=\"text_7\">\n      <!-- 0 -->\n      <g transform=\"translate(13.5625 14.882076)scale(0.1 -0.1)\">\n       <use xlink:href=\"#DejaVuSans-48\"/>\n      </g>\n     </g>\n    </g>\n    <g id=\"ytick_2\">\n     <g id=\"line2d_8\">\n      <g>\n       <use style=\"stroke:#000000;stroke-width:0.8;\" x=\"26.925\" xlink:href=\"#m728dbadc83\" y=\"49.911429\"/>\n      </g>\n     </g>\n     <g id=\"text_8\">\n      <!-- 5 -->\n      <g transform=\"translate(13.5625 53.710647)scale(0.1 -0.1)\">\n       <use xlink:href=\"#DejaVuSans-53\"/>\n      </g>\n     </g>\n    </g>\n    <g id=\"ytick_3\">\n     <g id=\"line2d_9\">\n      <g>\n       <use style=\"stroke:#000000;stroke-width:0.8;\" x=\"26.925\" xlink:href=\"#m728dbadc83\" y=\"88.74\"/>\n      </g>\n     </g>\n     <g id=\"text_9\">\n      <!-- 10 -->\n      <g transform=\"translate(7.2 92.539219)scale(0.1 -0.1)\">\n       <use xlink:href=\"#DejaVuSans-49\"/>\n       <use x=\"63.623047\" xlink:href=\"#DejaVuSans-48\"/>\n      </g>\n     </g>\n    </g>\n    <g id=\"ytick_4\">\n     <g id=\"line2d_10\">\n      <g>\n       <use style=\"stroke:#000000;stroke-width:0.8;\" x=\"26.925\" xlink:href=\"#m728dbadc83\" y=\"127.568571\"/>\n      </g>\n     </g>\n     <g id=\"text_10\">\n      <!-- 15 -->\n      <g transform=\"translate(7.2 131.36779)scale(0.1 -0.1)\">\n       <use xlink:href=\"#DejaVuSans-49\"/>\n       <use x=\"63.623047\" xlink:href=\"#DejaVuSans-53\"/>\n      </g>\n     </g>\n    </g>\n    <g id=\"ytick_5\">\n     <g id=\"line2d_11\">\n      <g>\n       <use style=\"stroke:#000000;stroke-width:0.8;\" x=\"26.925\" xlink:href=\"#m728dbadc83\" y=\"166.397143\"/>\n      </g>\n     </g>\n     <g id=\"text_11\">\n      <!-- 20 -->\n      <g transform=\"translate(7.2 170.196362)scale(0.1 -0.1)\">\n       <use xlink:href=\"#DejaVuSans-50\"/>\n       <use x=\"63.623047\" xlink:href=\"#DejaVuSans-48\"/>\n      </g>\n     </g>\n    </g>\n    <g id=\"ytick_6\">\n     <g id=\"line2d_12\">\n      <g>\n       <use style=\"stroke:#000000;stroke-width:0.8;\" x=\"26.925\" xlink:href=\"#m728dbadc83\" y=\"205.225714\"/>\n      </g>\n     </g>\n     <g id=\"text_12\">\n      <!-- 25 -->\n      <g transform=\"translate(7.2 209.024933)scale(0.1 -0.1)\">\n       <use xlink:href=\"#DejaVuSans-50\"/>\n       <use x=\"63.623047\" xlink:href=\"#DejaVuSans-53\"/>\n      </g>\n     </g>\n    </g>\n   </g>\n   <g id=\"patch_3\">\n    <path d=\"M 26.925 224.64 \nL 26.925 7.2 \n\" style=\"fill:none;stroke:#000000;stroke-linecap:square;stroke-linejoin:miter;stroke-width:0.8;\"/>\n   </g>\n   <g id=\"patch_4\">\n    <path d=\"M 244.365 224.64 \nL 244.365 7.2 \n\" style=\"fill:none;stroke:#000000;stroke-linecap:square;stroke-linejoin:miter;stroke-width:0.8;\"/>\n   </g>\n   <g id=\"patch_5\">\n    <path d=\"M 26.925 224.64 \nL 244.365 224.64 \n\" style=\"fill:none;stroke:#000000;stroke-linecap:square;stroke-linejoin:miter;stroke-width:0.8;\"/>\n   </g>\n   <g id=\"patch_6\">\n    <path d=\"M 26.925 7.2 \nL 244.365 7.2 \n\" style=\"fill:none;stroke:#000000;stroke-linecap:square;stroke-linejoin:miter;stroke-width:0.8;\"/>\n   </g>\n  </g>\n </g>\n <defs>\n  <clipPath id=\"pfcba132b0c\">\n   <rect height=\"217.44\" width=\"217.44\" x=\"26.925\" y=\"7.2\"/>\n  </clipPath>\n </defs>\n</svg>\n",
      "image/png": "[encoded data removed]"
     },
     "metadata": {
      "needs_background": "light"
     }
    }
   ],
   "source": [
    "for input, label in dataloader:\n",
    "    plt.imshow(transformToImage(input[0]), cmap=\"gray\")\n",
    "    plt.show()\n",
    "    label = one_hot(label).float()\n",
    "    # print(label)\n",
    "    break\n",
    "\n",
    "model = CNN()\n",
    "layer = model.conv_layers[0]\n",
    "\n",
    "input_kernel_matrix = MatrixBasedRenyisEntropy.tensorRBFMatrix(input.flatten(1), 8)\n",
    "\n",
    "label_kernel_matrix = MatrixBasedRenyisEntropy.tensorRBFMatrix(label, 0.1)"
   ]
  },
  {
   "source": [
    "### Information plane test"
   ],
   "cell_type": "markdown",
   "metadata": {}
  },
  {
   "cell_type": "code",
   "execution_count": 5,
   "metadata": {},
   "outputs": [],
   "source": [
    "class RKHSMatrixOptimizer():\n",
    "    def __init__(self, beta=0.5):\n",
    "        if not(0 <= beta <= 1):\n",
    "            raise Exception('beta must be in the range [0, 1]')\n",
    "\n",
    "        self.beta = beta\n",
    "        self.sigma = None\n",
    "\n",
    "    def getSigma(self):\n",
    "        return self.sigma\n",
    "\n",
    "    '''\n",
    "        @param The output of a specific layer\n",
    "        @param label_kernel_matrix\n",
    "        @param n_sigmas\n",
    "    '''\n",
    "    def step(self, layer_output, Ky, n_sigmas=75):\n",
    "        sigma_t = self.optimize(layer_output, Ky, n_sigmas)\n",
    "        self.sigma = ( (self.beta*self.sigma) + ((1-self.beta)*sigma_t) ) if not(self.sigma is None) else sigma_t\n",
    "        return self.getSigma()\n",
    "\n",
    "    '''\n",
    "        This function is used in orter to obtain the optimal kernel width for\n",
    "        an T DNN layer\n",
    "\n",
    "        @param layer_output\n",
    "        @param n_sigmas: number of possible sigma values\n",
    "\n",
    "        [Descripción del procedimiento]\n",
    "    '''\n",
    "    def optimize(self, layer_output, Ky, n_sigmas):\n",
    "        distance = torch.cdist(layer_output, layer_output)\n",
    "        mean_distance = distance[distance != 0].mean().detach().cpu()\n",
    "        sigma_values = np.arange(mean_distance*0.1, mean_distance*10, (mean_distance*10 - mean_distance*0.1)/n_sigmas)\n",
    "\n",
    "        Kt = list( map(lambda sigma: TensorKernel.RBF(layer_output, sigma).detach(), sigma_values.tolist()) )\n",
    "        loss = np.array( list( map(lambda k: self.kernelAligmentLoss(k, Ky), Kt) ) )\n",
    "        return sigma_values[ np.argwhere(loss == loss.max()).item(0) ]\n",
    "\n",
    "    '''\n",
    "        Kernel Aligment Loss Function.\n",
    "\n",
    "        This function is used in order to obtain the optimal sigma parameter from\n",
    "        RBF kernel.  \n",
    "    '''\n",
    "    def kernelAligmentLoss(self, x, y):\n",
    "        return (torch.sum(x*y))/(torch.norm(x) * torch.norm(y))\n",
    "\n",
    "\n",
    "\n",
    "class InformationPlane(torch.nn.Module):\n",
    "    '''\n",
    "        @param input_kernel: preprocessed input kernel matrix\n",
    "        @param input_kernel: preprocessed label kernel matrix\n",
    "        @param sigma_values: number of possible sigma values for optimizing process.\n",
    "        @param step: indicates the number of step for reducing the number of possible sigma values\n",
    "    '''\n",
    "    def __init__(self, mini_batch_size, beta=0.5):\n",
    "        super(InformationPlane, self).__init__()\n",
    "\n",
    "        self.mini_batch_size = mini_batch_size\n",
    "        self.sigma_optimizer = RKHSMatrixOptimizer(beta)\n",
    "        self.Ixt = []\n",
    "        self.Ity = []\n",
    "\n",
    "    '''\n",
    "        @param beta regularizer term to stabilize the optimal sigma value across the previous iteration\n",
    "        \n",
    "        @return mutual information with label {I(X,T), I(T,Y)}\n",
    "    '''\n",
    "    def forward(self, x, input, label, beta=0.5):\n",
    "        original_shape = x.shape\n",
    "        x = x.flatten(1)\n",
    "\n",
    "        Ixt = [] # Mutual Information with input I(X, T)\n",
    "        Ity = [] # Mutual Information with label I(T, Y)\n",
    "\n",
    "        # Dividir en minibatchs [x]\n",
    "        # Utilizar el optimizador [x]\n",
    "        # Obtener la matrix A con el valor de sigma optimizado [x]\n",
    "\n",
    "        for idx in range(0, len(x), self.mini_batch_size):\n",
    "            batch = x[idx:idx+self.mini_batch_size]\n",
    "            input_batch = input[idx:idx+self.mini_batch_size].flatten(1)\n",
    "            label_batch = label[idx:idx+self.mini_batch_size]\n",
    "            label_kernel_matrix = TensorKernel.RBF(label_batch, 0.1)\n",
    "            \n",
    "            self.sigma_optimizer.step(batch, label_kernel_matrix, 75)            \n",
    "\n",
    "            A = MatrixBasedRenyisEntropy.tensorRBFMatrix(batch, self.sigma_optimizer.getSigma()).detach()\n",
    "            Ay = MatrixBasedRenyisEntropy.tensorRBFMatrix(label_batch, 0.1).detach()\n",
    "            Ax = MatrixBasedRenyisEntropy.tensorRBFMatrix(input_batch, 8).detach()\n",
    "            Ixt.append(MatrixBasedRenyisEntropy.mutualInformation(Ax, A))\n",
    "            Ity.append(MatrixBasedRenyisEntropy.mutualInformation(A, Ay))\n",
    "\n",
    "        self.Ixt.append(np.array(Ixt).mean())\n",
    "        self.Ity.append(np.array(Ity).mean())\n",
    "\n",
    "        x = x.reshape(original_shape)\n",
    "        return x\n",
    "\n",
    "    ''' \n",
    "        @return Mutual Information {I(X,T), I(T,Y)}\n",
    "    '''\n",
    "    def getMutualInformation(self):\n",
    "        return self.Ixt, self.Ity\n"
   ]
  },
  {
   "cell_type": "code",
   "execution_count": 6,
   "metadata": {},
   "outputs": [],
   "source": [
    "class CNN(nn.Module):\n",
    "    def __init__(self):\n",
    "        super(CNN, self).__init__()\n",
    "        self.layer1 = nn.Sequential(\n",
    "            nn.Conv2d(1, 4, 3, stride=1, padding=0),\n",
    "            nn.ReLU(inplace=True),\n",
    "            nn.BatchNorm2d(4)\n",
    "        )\n",
    "\n",
    "        self.layer1_IP = InformationPlane(10)\n",
    "\n",
    "        self.layer2 = nn.Sequential(\n",
    "            nn.Conv2d(4, 8, 3, stride=1, padding=0),\n",
    "            nn.ReLU(inplace=True),\n",
    "            nn.BatchNorm2d(8),\n",
    "            nn.MaxPool2d(2, stride=2, ceil_mode=True)\n",
    "        )\n",
    "\n",
    "        self.layer2_IP = InformationPlane(10)\n",
    "\n",
    "        self.layer3 = nn.Sequential(\n",
    "            nn.Conv2d(8, 16, 3, stride=1, padding=0),\n",
    "            nn.ReLU(inplace=True),\n",
    "            nn.BatchNorm2d(16),\n",
    "            nn.MaxPool2d(2, stride=2, ceil_mode=True)\n",
    "        )\n",
    "\n",
    "        self.layer3_IP = InformationPlane(10)\n",
    "\n",
    "        self.fc = nn.Sequential(\n",
    "            nn.Linear(400, 256),\n",
    "            nn.ReLU(inplace=True),\n",
    "            nn.BatchNorm1d(256),\n",
    "            nn.Linear(256, 10),\n",
    "        )\n",
    "\n",
    "        self.fc_IP = InformationPlane(10)\n",
    "\n",
    "    def forward(self, x, input, label):\n",
    "        x = self.layer1(x)\n",
    "        x = self.layer1_IP(x, input, label)\n",
    "        x = self.layer2(x)\n",
    "        x = self.layer2_IP(x, input, label)\n",
    "        x = self.layer3(x)\n",
    "        x = self.layer3_IP(x, input, label)\n",
    "        x = torch.flatten(x, 1)\n",
    "        x = self.fc(x)\n",
    "        self.fc_IP(x, input, label)\n",
    "        return x"
   ]
  },
  {
   "cell_type": "code",
   "execution_count": 9,
   "metadata": {},
   "outputs": [],
   "source": [
    "net = CNN().cuda()\n",
    "# test = net(input.cuda(), input, label)"
   ]
  },
  {
   "cell_type": "code",
   "execution_count": 8,
   "metadata": {
    "tags": []
   },
   "outputs": [
    {
     "output_type": "stream",
     "name": "stdout",
     "text": "([3.240462], [2.5221956])\n([3.2373648], [2.5228314])\n([3.2286787], [2.520575])\n([(3.2724476+0j)], [2.5414553])\n"
    }
   ],
   "source": [
    "print(net.layer1_IP.getMutualInformation())\n",
    "print(net.layer2_IP.getMutualInformation())\n",
    "print(net.layer3_IP.getMutualInformation())\n",
    "print(net.fc_IP.getMutualInformation())"
   ]
  },
  {
   "cell_type": "code",
   "execution_count": 11,
   "metadata": {
    "tags": []
   },
   "outputs": [
    {
     "output_type": "stream",
     "name": "stdout",
     "text": "([3.2568984], [2.6334927])\n"
    }
   ],
   "source": [
    "IP = InformationPlane(10)\n",
    "\n",
    "layer_output = layer(input)\n",
    "k = IP(layer_output, input, label)\n",
    "print(IP.getMutualInformation())\n",
    "\n",
    "# print(layer_output == k)"
   ]
  },
  {
   "source": [
    "# Training"
   ],
   "cell_type": "markdown",
   "metadata": {
    "tags": []
   }
  },
  {
   "cell_type": "code",
   "execution_count": 10,
   "metadata": {
    "tags": []
   },
   "outputs": [
    {
     "output_type": "stream",
     "name": "stdout",
     "text": "[1,     1] loss: 0.001\n[2,     1] loss: 0.000\nFinished Training\n"
    }
   ],
   "source": [
    "import torch.optim as optim\n",
    "\n",
    "criterion = nn.CrossEntropyLoss()\n",
    "optimizer = optim.SGD(net.parameters(), lr=0.001, momentum=0.9)\n",
    "\n",
    "for epoch in range(2):  # loop over the dataset multiple times\n",
    "\n",
    "    running_loss = 0.0\n",
    "    for i, (inputs, labels) in enumerate(dataloader):\n",
    "        # get the inputs; data is a list of [inputs, labels]\n",
    "        inputs = inputs.cuda()\n",
    "        labels = labels.cuda()\n",
    "\n",
    "        # zero the parameter gradients\n",
    "        optimizer.zero_grad()\n",
    "\n",
    "        # forward + backward + optimize\n",
    "        outputs = net(inputs, inputs, one_hot(labels).float())\n",
    "        loss = criterion(outputs, labels)\n",
    "        loss.backward()\n",
    "        optimizer.step()\n",
    "\n",
    "        # print statistics\n",
    "        running_loss += loss.item()\n",
    "        if i % 250 == 0:    # print every 250 mini-batches\n",
    "            print('[%d, %5d] loss: %.3f' %\n",
    "                  (epoch + 1, i + 1, running_loss / 250))\n",
    "            running_loss = 0.0\n",
    "\n",
    "print('Finished Training')"
   ]
  },
  {
   "cell_type": "code",
   "execution_count": 16,
   "metadata": {
    "tags": []
   },
   "outputs": [
    {
     "output_type": "stream",
     "name": "stdout",
     "text": "False\n"
    }
   ],
   "source": [
    "print(1 % 2000 == 0)\n"
   ]
  },
  {
   "cell_type": "code",
   "execution_count": null,
   "metadata": {
    "tags": []
   },
   "outputs": [],
   "source": [
    "print(len(net.layer1_IP.getMutualInformation()[0]))\n",
    "# print(net.layer2_IP.getMutualInformation()[0])\n",
    "# print(net.layer3_IP.getMutualInformation()[0])"
   ]
  },
  {
   "cell_type": "code",
   "execution_count": null,
   "metadata": {},
   "outputs": [],
   "source": [
    "plt.scatter(net.layer1_IP.getMutualInformation()[0], net.layer1_IP.getMutualInformation()[1])\n",
    "plt.scatter(net.layer2_IP.getMutualInformation()[0], net.layer2_IP.getMutualInformation()[1])\n",
    "plt.scatter(net.layer3_IP.getMutualInformation()[0], net.layer3_IP.getMutualInformation()[1])"
   ]
  },
  {
   "cell_type": "code",
   "execution_count": 24,
   "metadata": {},
   "outputs": [
    {
     "output_type": "execute_result",
     "data": {
      "text/plain": "35.17054556123912"
     },
     "metadata": {},
     "execution_count": 24
    }
   ],
   "source": [
    "running_loss"
   ]
  },
  {
   "cell_type": "code",
   "execution_count": 25,
   "metadata": {},
   "outputs": [
    {
     "output_type": "execute_result",
     "data": {
      "text/plain": "tensor(0.0971, device='cuda:0', grad_fn=<NllLossBackward>)"
     },
     "metadata": {},
     "execution_count": 25
    }
   ],
   "source": [
    "loss"
   ]
  },
  {
   "cell_type": "code",
   "execution_count": 37,
   "metadata": {
    "tags": []
   },
   "outputs": [],
   "source": [
    "for inputs, labels in dataloader:\n",
    "    inputs = inputs.cuda()\n",
    "    out = net(inputs, inputs, one_hot(labels).float())[0]\n",
    "    break"
   ]
  },
  {
   "cell_type": "code",
   "execution_count": 45,
   "metadata": {
    "tags": []
   },
   "outputs": [
    {
     "output_type": "stream",
     "name": "stdout",
     "text": "tensor([0.2547, 0.2040, 0.3419, 0.9722, 0.0636, 0.9976, 0.4654, 0.3496, 0.4917,\n        0.2246], device='cuda:0', grad_fn=<SigmoidBackward>)\n"
    }
   ],
   "source": [
    "sigmoid = torch.nn.Sigmoid()\n",
    "print(sigmoid(out))"
   ]
  },
  {
   "cell_type": "code",
   "execution_count": null,
   "metadata": {},
   "outputs": [],
   "source": []
  }
 ]
}