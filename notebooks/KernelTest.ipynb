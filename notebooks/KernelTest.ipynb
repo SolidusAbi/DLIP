{
 "metadata": {
  "language_info": {
   "codemirror_mode": {
    "name": "ipython",
    "version": 3
   },
   "file_extension": ".py",
   "mimetype": "text/x-python",
   "name": "python",
   "nbconvert_exporter": "python",
   "pygments_lexer": "ipython3",
   "version": "3.7.4-final"
  },
  "orig_nbformat": 2,
  "kernelspec": {
   "name": "Python 3.7.4 64-bit ('DeepLearning': conda)",
   "display_name": "Python 3.7.4 64-bit ('DeepLearning': conda)",
   "metadata": {
    "interpreter": {
     "hash": "0b8b4ac5d0a82ced13579c253e3ebcf66f7b71cd01016ca2a6b9c5ad9c61843d"
    }
   }
  }
 },
 "nbformat": 4,
 "nbformat_minor": 2,
 "cells": [
  {
   "cell_type": "code",
   "execution_count": 1,
   "metadata": {},
   "outputs": [],
   "source": [
    "import torch\n",
    "from torch.nn.functional import one_hot\n",
    "import numpy as np\n",
    "from sklearn.metrics.pairwise import rbf_kernel\n",
    "\n",
    "inputs = torch.load(\"tests/inputs.pt\")\n",
    "labels = torch.load(\"tests/labels.pt\")"
   ]
  },
  {
   "cell_type": "code",
   "execution_count": 2,
   "metadata": {},
   "outputs": [],
   "source": [
    "from scipy import linalg\n",
    "from numpy import linalg as LA\n",
    "from scipy.spatial.distance import cdist\n",
    "\n",
    "def RBF(x, sigma):\n",
    "    distance = torch.cdist(x, x)\n",
    "    return torch.exp(-(1/(sigma**2)) * (distance**2))\n",
    "\n",
    "labels_oh = one_hot(labels, num_classes=10).float()\n",
    "labels_test = labels.reshape((len(labels), 1)).float()"
   ]
  },
  {
   "cell_type": "code",
   "execution_count": 63,
   "metadata": {
    "tags": []
   },
   "outputs": [
    {
     "output_type": "stream",
     "name": "stdout",
     "text": "[[1.00000000e-002 0.00000000e+000 3.72007598e-046 ... 0.00000000e+000\n  1.91516960e-176 0.00000000e+000]\n [0.00000000e+000 1.00000000e-002 0.00000000e+000 ... 0.00000000e+000\n  0.00000000e+000 3.72007598e-046]\n [3.72007598e-046 0.00000000e+000 1.00000000e-002 ... 0.00000000e+000\n  3.72007598e-046 0.00000000e+000]\n ...\n [0.00000000e+000 0.00000000e+000 0.00000000e+000 ... 1.00000000e-002\n  0.00000000e+000 0.00000000e+000]\n [1.91516960e-176 0.00000000e+000 3.72007598e-046 ... 0.00000000e+000\n  1.00000000e-002 1.91516960e-176]\n [0.00000000e+000 3.72007598e-046 0.00000000e+000 ... 0.00000000e+000\n  1.91516960e-176 1.00000000e-002]]\n"
    }
   ],
   "source": [
    "\n",
    "\n",
    "test = labels_test\n",
    "A = RBF(test, 0.1) / (len(test))\n",
    "print(A)\n",
    "# w = linalg.eigh(A, eigvals_only=True)\n",
    "# print(w)\n",
    "# print(w[40:])\n",
    "\n",
    "# length=5\n",
    "# for idx in range(150):\n",
    "#     start = idx*length\n",
    "#     end = start+length\n",
    "#     test = labels_oh[start:end]\n",
    "#     print(test)\n",
    "#     A = RBF(test, 0.01) / 6000\n",
    "#     w = linalg.eigh(A, eigvals_only=True)\n",
    "#     print(w)"
   ]
  },
  {
   "source": [
    "# Caso 1"
   ],
   "cell_type": "markdown",
   "metadata": {}
  },
  {
   "cell_type": "code",
   "execution_count": 3,
   "metadata": {
    "tags": []
   },
   "outputs": [
    {
     "output_type": "stream",
     "name": "stdout",
     "text": "tensor([[0., 0., 0., 0., 1., 0., 0., 0., 0., 0.],\n        [0., 0., 0., 0., 1., 0., 0., 0., 0., 0.],\n        [0., 0., 0., 0., 0., 0., 1., 0., 0., 0.],\n        [1., 0., 0., 0., 0., 0., 0., 0., 0., 0.],\n        [0., 0., 0., 0., 1., 0., 0., 0., 0., 0.]], device=&#39;cuda:0&#39;)\ntensor([[1., 1., 0., 0., 1.],\n        [1., 1., 0., 0., 1.],\n        [0., 0., 1., 0., 0.],\n        [0., 0., 0., 1., 0.],\n        [1., 1., 0., 0., 1.]], device=&#39;cuda:0&#39;)\n0.0\n[-1.5065224e-07  3.1442951e-08  1.0000000e+00  1.0000000e+00\n  3.0000000e+00]\n"
    }
   ],
   "source": [
    "test = labels_oh[12*5:(12*5)+5]\n",
    "print(test)\n",
    "\n",
    "A = RBF(test, 0.01)\n",
    "print(A)\n",
    "print(np.linalg.det(A.cpu()))\n",
    "\n",
    "w = linalg.eigh(A.cpu(), eigvals_only=True)\n",
    "print(w)"
   ]
  },
  {
   "cell_type": "code",
   "execution_count": 4,
   "metadata": {
    "tags": []
   },
   "outputs": [
    {
     "output_type": "stream",
     "name": "stdout",
     "text": "tensor([[0., 2., 0., 3., 2., 4.],\n        [2., 0., 2., 1., 0., 2.],\n        [0., 2., 0., 3., 2., 4.],\n        [3., 1., 3., 0., 1., 1.],\n        [2., 0., 2., 1., 0., 2.],\n        [4., 2., 4., 1., 2., 0.]], device=&#39;cuda:0&#39;)\n"
    }
   ],
   "source": [
    "test = labels_test[6:12]\n",
    "distance = torch.cdist(test, test)\n",
    "print(distance)\n",
    "# A = RBF(test, 0.01)\n",
    "# print(A)\n",
    "# print(test)\n",
    "# print(np.linalg.det(A.cpu()))\n",
    "# w = linalg.eigh(A.cpu(), eigvals_only=True)\n",
    "# print(w)"
   ]
  },
  {
   "cell_type": "code",
   "execution_count": 5,
   "metadata": {
    "tags": []
   },
   "outputs": [
    {
     "output_type": "stream",
     "name": "stdout",
     "text": "tensor([[0.0000, 1.4142, 0.0000, 1.4142, 1.4142, 1.4142],\n        [1.4142, 0.0000, 1.4142, 1.4142, 0.0000, 1.4142],\n        [0.0000, 1.4142, 0.0000, 1.4142, 1.4142, 1.4142],\n        [1.4142, 1.4142, 1.4142, 0.0000, 1.4142, 1.4142],\n        [1.4142, 0.0000, 1.4142, 1.4142, 0.0000, 1.4142],\n        [1.4142, 1.4142, 1.4142, 1.4142, 1.4142, 0.0000]], device=&#39;cuda:0&#39;)\ntensor([[1., 0., 1., 0., 0., 0.],\n        [0., 1., 0., 0., 1., 0.],\n        [1., 0., 1., 0., 0., 0.],\n        [0., 0., 0., 1., 0., 0.],\n        [0., 1., 0., 0., 1., 0.],\n        [0., 0., 0., 0., 0., 1.]], device=&#39;cuda:0&#39;)\n"
    }
   ],
   "source": [
    "test = labels_oh[6:12]\n",
    "distance = torch.cdist(test, test)\n",
    "print(distance)\n",
    "A = RBF(test, 0.01)\n",
    "print(A)"
   ]
  },
  {
   "source": [
    "# Caso 2"
   ],
   "cell_type": "markdown",
   "metadata": {}
  },
  {
   "cell_type": "code",
   "execution_count": 6,
   "metadata": {
    "tags": []
   },
   "outputs": [
    {
     "output_type": "stream",
     "name": "stdout",
     "text": "tensor([[0., 0., 0., 1., 0., 0., 0., 0., 0., 0.],\n        [0., 1., 0., 0., 0., 0., 0., 0., 0., 0.],\n        [0., 0., 0., 0., 1., 0., 0., 0., 0., 0.],\n        [0., 0., 0., 1., 0., 0., 0., 0., 0., 0.],\n        [0., 0., 0., 0., 0., 1., 0., 0., 0., 0.],\n        [0., 0., 0., 1., 0., 0., 0., 0., 0., 0.]], device=&#39;cuda:0&#39;)\ntensor([[0.1667, 0.0000, 0.0000, 0.1667, 0.0000, 0.1667],\n        [0.0000, 0.1667, 0.0000, 0.0000, 0.0000, 0.0000],\n        [0.0000, 0.0000, 0.1667, 0.0000, 0.0000, 0.0000],\n        [0.1667, 0.0000, 0.0000, 0.1667, 0.0000, 0.1667],\n        [0.0000, 0.0000, 0.0000, 0.0000, 0.1667, 0.0000],\n        [0.1667, 0.0000, 0.0000, 0.1667, 0.0000, 0.1667]], device=&#39;cuda:0&#39;)\n"
    },
    {
     "output_type": "error",
     "ename": "TypeError",
     "evalue": "can&#39;t convert CUDA tensor to numpy. Use Tensor.cpu() to copy the tensor to host memory first.",
     "traceback": [
      "\u001b[0;31m---------------------------------------------------------------------------\u001b[0m",
      "\u001b[0;31mTypeError\u001b[0m                                 Traceback (most recent call last)",
      "\u001b[0;32m&lt;ipython-input-6-4d3209ce534b&gt;\u001b[0m in \u001b[0;36m&lt;module&gt;\u001b[0;34m\u001b[0m\n\u001b[1;32m      4\u001b[0m \u001b[0mA\u001b[0m \u001b[0;34m=\u001b[0m \u001b[0mRBF\u001b[0m\u001b[0;34m(\u001b[0m\u001b[0mtest\u001b[0m\u001b[0;34m,\u001b[0m \u001b[0;36m0.01\u001b[0m\u001b[0;34m)\u001b[0m \u001b[0;34m/\u001b[0m \u001b[0mlen\u001b[0m\u001b[0;34m(\u001b[0m\u001b[0mtest\u001b[0m\u001b[0;34m)\u001b[0m\u001b[0;34m\u001b[0m\u001b[0;34m\u001b[0m\u001b[0m\n\u001b[1;32m      5\u001b[0m \u001b[0mprint\u001b[0m\u001b[0;34m(\u001b[0m\u001b[0mA\u001b[0m\u001b[0;34m)\u001b[0m\u001b[0;34m\u001b[0m\u001b[0;34m\u001b[0m\u001b[0m\n\u001b[0;32m----&gt; 6\u001b[0;31m \u001b[0mw\u001b[0m \u001b[0;34m=\u001b[0m \u001b[0mlinalg\u001b[0m\u001b[0;34m.\u001b[0m\u001b[0meigh\u001b[0m\u001b[0;34m(\u001b[0m\u001b[0mA\u001b[0m\u001b[0;34m,\u001b[0m \u001b[0meigvals_only\u001b[0m\u001b[0;34m=\u001b[0m\u001b[0;32mTrue\u001b[0m\u001b[0;34m)\u001b[0m\u001b[0;34m\u001b[0m\u001b[0;34m\u001b[0m\u001b[0m\n\u001b[0m\u001b[1;32m      7\u001b[0m \u001b[0mprint\u001b[0m\u001b[0;34m(\u001b[0m\u001b[0mw\u001b[0m\u001b[0;34m)\u001b[0m\u001b[0;34m\u001b[0m\u001b[0;34m\u001b[0m\u001b[0m\n",
      "\u001b[0;32m~/Workspace/Anaconda/Miniconda/envs/DeepLearning/lib/python3.7/site-packages/scipy/linalg/decomp.py\u001b[0m in \u001b[0;36meigh\u001b[0;34m(a, b, lower, eigvals_only, overwrite_a, overwrite_b, turbo, eigvals, type, check_finite, subset_by_index, subset_by_value, driver)\u001b[0m\n\u001b[1;32m    443\u001b[0m                          &#39;&#39;.format(driver, &#39;&quot;, &quot;&#39;.join(drv_str[1:])))\n\u001b[1;32m    444\u001b[0m \u001b[0;34m\u001b[0m\u001b[0m\n\u001b[0;32m--&gt; 445\u001b[0;31m     \u001b[0ma1\u001b[0m \u001b[0;34m=\u001b[0m \u001b[0m_asarray_validated\u001b[0m\u001b[0;34m(\u001b[0m\u001b[0ma\u001b[0m\u001b[0;34m,\u001b[0m \u001b[0mcheck_finite\u001b[0m\u001b[0;34m=\u001b[0m\u001b[0mcheck_finite\u001b[0m\u001b[0;34m)\u001b[0m\u001b[0;34m\u001b[0m\u001b[0;34m\u001b[0m\u001b[0m\n\u001b[0m\u001b[1;32m    446\u001b[0m     \u001b[0;32mif\u001b[0m \u001b[0mlen\u001b[0m\u001b[0;34m(\u001b[0m\u001b[0ma1\u001b[0m\u001b[0;34m.\u001b[0m\u001b[0mshape\u001b[0m\u001b[0;34m)\u001b[0m \u001b[0;34m!=\u001b[0m \u001b[0;36m2\u001b[0m \u001b[0;32mor\u001b[0m \u001b[0ma1\u001b[0m\u001b[0;34m.\u001b[0m\u001b[0mshape\u001b[0m\u001b[0;34m[\u001b[0m\u001b[0;36m0\u001b[0m\u001b[0;34m]\u001b[0m \u001b[0;34m!=\u001b[0m \u001b[0ma1\u001b[0m\u001b[0;34m.\u001b[0m\u001b[0mshape\u001b[0m\u001b[0;34m[\u001b[0m\u001b[0;36m1\u001b[0m\u001b[0;34m]\u001b[0m\u001b[0;34m:\u001b[0m\u001b[0;34m\u001b[0m\u001b[0;34m\u001b[0m\u001b[0m\n\u001b[1;32m    447\u001b[0m         \u001b[0;32mraise\u001b[0m \u001b[0mValueError\u001b[0m\u001b[0;34m(\u001b[0m\u001b[0;34m&#39;expected square &quot;a&quot; matrix&#39;\u001b[0m\u001b[0;34m)\u001b[0m\u001b[0;34m\u001b[0m\u001b[0;34m\u001b[0m\u001b[0m\n",
      "\u001b[0;32m~/Workspace/Anaconda/Miniconda/envs/DeepLearning/lib/python3.7/site-packages/scipy/_lib/_util.py\u001b[0m in \u001b[0;36m_asarray_validated\u001b[0;34m(a, check_finite, sparse_ok, objects_ok, mask_ok, as_inexact)\u001b[0m\n\u001b[1;32m    261\u001b[0m             \u001b[0;32mraise\u001b[0m \u001b[0mValueError\u001b[0m\u001b[0;34m(\u001b[0m\u001b[0;34m&#39;masked arrays are not supported&#39;\u001b[0m\u001b[0;34m)\u001b[0m\u001b[0;34m\u001b[0m\u001b[0;34m\u001b[0m\u001b[0m\n\u001b[1;32m    262\u001b[0m     \u001b[0mtoarray\u001b[0m \u001b[0;34m=\u001b[0m \u001b[0mnp\u001b[0m\u001b[0;34m.\u001b[0m\u001b[0masarray_chkfinite\u001b[0m \u001b[0;32mif\u001b[0m \u001b[0mcheck_finite\u001b[0m \u001b[0;32melse\u001b[0m \u001b[0mnp\u001b[0m\u001b[0;34m.\u001b[0m\u001b[0masarray\u001b[0m\u001b[0;34m\u001b[0m\u001b[0;34m\u001b[0m\u001b[0m\n\u001b[0;32m--&gt; 263\u001b[0;31m     \u001b[0ma\u001b[0m \u001b[0;34m=\u001b[0m \u001b[0mtoarray\u001b[0m\u001b[0;34m(\u001b[0m\u001b[0ma\u001b[0m\u001b[0;34m)\u001b[0m\u001b[0;34m\u001b[0m\u001b[0;34m\u001b[0m\u001b[0m\n\u001b[0m\u001b[1;32m    264\u001b[0m     \u001b[0;32mif\u001b[0m \u001b[0;32mnot\u001b[0m \u001b[0mobjects_ok\u001b[0m\u001b[0;34m:\u001b[0m\u001b[0;34m\u001b[0m\u001b[0;34m\u001b[0m\u001b[0m\n\u001b[1;32m    265\u001b[0m         \u001b[0;32mif\u001b[0m \u001b[0ma\u001b[0m\u001b[0;34m.\u001b[0m\u001b[0mdtype\u001b[0m \u001b[0;32mis\u001b[0m \u001b[0mnp\u001b[0m\u001b[0;34m.\u001b[0m\u001b[0mdtype\u001b[0m\u001b[0;34m(\u001b[0m\u001b[0;34m&#39;O&#39;\u001b[0m\u001b[0;34m)\u001b[0m\u001b[0;34m:\u001b[0m\u001b[0;34m\u001b[0m\u001b[0;34m\u001b[0m\u001b[0m\n",
      "\u001b[0;32m~/Workspace/Anaconda/Miniconda/envs/DeepLearning/lib/python3.7/site-packages/numpy/lib/function_base.py\u001b[0m in \u001b[0;36masarray_chkfinite\u001b[0;34m(a, dtype, order)\u001b[0m\n\u001b[1;32m    481\u001b[0m \u001b[0;34m\u001b[0m\u001b[0m\n\u001b[1;32m    482\u001b[0m     &quot;&quot;&quot;\n\u001b[0;32m--&gt; 483\u001b[0;31m     \u001b[0ma\u001b[0m \u001b[0;34m=\u001b[0m \u001b[0masarray\u001b[0m\u001b[0;34m(\u001b[0m\u001b[0ma\u001b[0m\u001b[0;34m,\u001b[0m \u001b[0mdtype\u001b[0m\u001b[0;34m=\u001b[0m\u001b[0mdtype\u001b[0m\u001b[0;34m,\u001b[0m \u001b[0morder\u001b[0m\u001b[0;34m=\u001b[0m\u001b[0morder\u001b[0m\u001b[0;34m)\u001b[0m\u001b[0;34m\u001b[0m\u001b[0;34m\u001b[0m\u001b[0m\n\u001b[0m\u001b[1;32m    484\u001b[0m     \u001b[0;32mif\u001b[0m \u001b[0ma\u001b[0m\u001b[0;34m.\u001b[0m\u001b[0mdtype\u001b[0m\u001b[0;34m.\u001b[0m\u001b[0mchar\u001b[0m \u001b[0;32min\u001b[0m \u001b[0mtypecodes\u001b[0m\u001b[0;34m[\u001b[0m\u001b[0;34m&#39;AllFloat&#39;\u001b[0m\u001b[0;34m]\u001b[0m \u001b[0;32mand\u001b[0m \u001b[0;32mnot\u001b[0m \u001b[0mnp\u001b[0m\u001b[0;34m.\u001b[0m\u001b[0misfinite\u001b[0m\u001b[0;34m(\u001b[0m\u001b[0ma\u001b[0m\u001b[0;34m)\u001b[0m\u001b[0;34m.\u001b[0m\u001b[0mall\u001b[0m\u001b[0;34m(\u001b[0m\u001b[0;34m)\u001b[0m\u001b[0;34m:\u001b[0m\u001b[0;34m\u001b[0m\u001b[0;34m\u001b[0m\u001b[0m\n\u001b[1;32m    485\u001b[0m         raise ValueError(\n",
      "\u001b[0;32m~/Workspace/Anaconda/Miniconda/envs/DeepLearning/lib/python3.7/site-packages/numpy/core/_asarray.py\u001b[0m in \u001b[0;36masarray\u001b[0;34m(a, dtype, order)\u001b[0m\n\u001b[1;32m     81\u001b[0m \u001b[0;34m\u001b[0m\u001b[0m\n\u001b[1;32m     82\u001b[0m     &quot;&quot;&quot;\n\u001b[0;32m---&gt; 83\u001b[0;31m     \u001b[0;32mreturn\u001b[0m \u001b[0marray\u001b[0m\u001b[0;34m(\u001b[0m\u001b[0ma\u001b[0m\u001b[0;34m,\u001b[0m \u001b[0mdtype\u001b[0m\u001b[0;34m,\u001b[0m \u001b[0mcopy\u001b[0m\u001b[0;34m=\u001b[0m\u001b[0;32mFalse\u001b[0m\u001b[0;34m,\u001b[0m \u001b[0morder\u001b[0m\u001b[0;34m=\u001b[0m\u001b[0morder\u001b[0m\u001b[0;34m)\u001b[0m\u001b[0;34m\u001b[0m\u001b[0;34m\u001b[0m\u001b[0m\n\u001b[0m\u001b[1;32m     84\u001b[0m \u001b[0;34m\u001b[0m\u001b[0m\n\u001b[1;32m     85\u001b[0m \u001b[0;34m\u001b[0m\u001b[0m\n",
      "\u001b[0;32m~/Workspace/Anaconda/Miniconda/envs/DeepLearning/lib/python3.7/site-packages/torch/tensor.py\u001b[0m in \u001b[0;36m__array__\u001b[0;34m(self, dtype)\u001b[0m\n\u001b[1;32m    484\u001b[0m     \u001b[0;32mdef\u001b[0m \u001b[0m__array__\u001b[0m\u001b[0;34m(\u001b[0m\u001b[0mself\u001b[0m\u001b[0;34m,\u001b[0m \u001b[0mdtype\u001b[0m\u001b[0;34m=\u001b[0m\u001b[0;32mNone\u001b[0m\u001b[0;34m)\u001b[0m\u001b[0;34m:\u001b[0m\u001b[0;34m\u001b[0m\u001b[0;34m\u001b[0m\u001b[0m\n\u001b[1;32m    485\u001b[0m         \u001b[0;32mif\u001b[0m \u001b[0mdtype\u001b[0m \u001b[0;32mis\u001b[0m \u001b[0;32mNone\u001b[0m\u001b[0;34m:\u001b[0m\u001b[0;34m\u001b[0m\u001b[0;34m\u001b[0m\u001b[0m\n\u001b[0;32m--&gt; 486\u001b[0;31m             \u001b[0;32mreturn\u001b[0m \u001b[0mself\u001b[0m\u001b[0;34m.\u001b[0m\u001b[0mnumpy\u001b[0m\u001b[0;34m(\u001b[0m\u001b[0;34m)\u001b[0m\u001b[0;34m\u001b[0m\u001b[0;34m\u001b[0m\u001b[0m\n\u001b[0m\u001b[1;32m    487\u001b[0m         \u001b[0;32melse\u001b[0m\u001b[0;34m:\u001b[0m\u001b[0;34m\u001b[0m\u001b[0;34m\u001b[0m\u001b[0m\n\u001b[1;32m    488\u001b[0m             \u001b[0;32mreturn\u001b[0m \u001b[0mself\u001b[0m\u001b[0;34m.\u001b[0m\u001b[0mnumpy\u001b[0m\u001b[0;34m(\u001b[0m\u001b[0;34m)\u001b[0m\u001b[0;34m.\u001b[0m\u001b[0mastype\u001b[0m\u001b[0;34m(\u001b[0m\u001b[0mdtype\u001b[0m\u001b[0;34m,\u001b[0m \u001b[0mcopy\u001b[0m\u001b[0;34m=\u001b[0m\u001b[0;32mFalse\u001b[0m\u001b[0;34m)\u001b[0m\u001b[0;34m\u001b[0m\u001b[0;34m\u001b[0m\u001b[0m\n",
      "\u001b[0;31mTypeError\u001b[0m: can&#39;t convert CUDA tensor to numpy. Use Tensor.cpu() to copy the tensor to host memory first."
     ]
    }
   ],
   "source": [
    "test = labels_oh[7:13]\n",
    "print(test)\n",
    "\n",
    "A = RBF(test, 0.01) / len(test)\n",
    "print(A)\n",
    "w = linalg.eigh(A, eigvals_only=True)\n",
    "print(w)"
   ]
  },
  {
   "source": [
    "# Caso sintetico"
   ],
   "cell_type": "markdown",
   "metadata": {}
  },
  {
   "cell_type": "code",
   "execution_count": null,
   "metadata": {
    "tags": []
   },
   "outputs": [],
   "source": [
    "test = torch.tensor([[1,0,0], [0,0,1], [0,0,1], [1,0,0], [0,0,1],[0,0,1]]).float()\n",
    "A = RBF(test, 0.1)/2000\n",
    "\n",
    "non_diagonal = np.where(~np.eye(A.shape[0],dtype=bool))\n",
    "# A[non_diagonal] += 1e-36\n",
    "print(A)\n",
    "w = linalg.eigh(A, eigvals_only=True)\n",
    "print(w)"
   ]
  },
  {
   "cell_type": "code",
   "execution_count": null,
   "metadata": {},
   "outputs": [],
   "source": [
    "np.log2(10)"
   ]
  },
  {
   "cell_type": "code",
   "execution_count": null,
   "metadata": {},
   "outputs": [],
   "source": [
    "torch.exp(-torch.tensor([100]).float())"
   ]
  },
  {
   "cell_type": "code",
   "execution_count": 11,
   "metadata": {
    "tags": []
   },
   "outputs": [
    {
     "output_type": "stream",
     "name": "stdout",
     "text": "tensor([[2.5733e-06, 2.6307e-05, 3.2719e-05, 2.8114e-05, 9.9901e-01, 3.2010e-05,\n         1.8710e-05, 2.4210e-05, 4.0101e-06, 3.3827e-05],\n        [2.7135e-05, 3.6212e-05, 5.4944e-06, 3.3884e-05, 9.9903e-01, 2.6277e-05,\n         2.5370e-05, 2.5408e-05, 2.7867e-05, 2.2277e-05],\n        [9.7411e-06, 2.9726e-06, 9.3139e-08, 2.7484e-05, 2.8640e-05, 1.8558e-05,\n         9.9901e-01, 1.0269e-05, 4.4821e-07, 2.7556e-05],\n        [9.9902e-01, 1.6369e-05, 2.3083e-05, 1.2738e-05, 3.2746e-05, 2.8227e-05,\n         1.5223e-06, 2.1855e-05, 2.9091e-05, 3.1146e-05],\n        [3.7161e-05, 3.6086e-05, 9.5493e-06, 3.4605e-05, 9.9902e-01, 1.0792e-06,\n         2.3144e-05, 1.2508e-05, 4.0863e-07, 3.7403e-06]], device=&#39;cuda:0&#39;)\ntensor([0.9992, 0.9993, 0.9991, 0.9992, 0.9992], device=&#39;cuda:0&#39;)\n[[1.0000000e+00 9.9999994e-01 4.6242849e-44 4.4841551e-44 9.9999988e-01]\n [9.9999994e-01 1.0000000e+00 4.4841551e-44 4.4841551e-44 9.9999994e-01]\n [4.6242849e-44 4.4841551e-44 1.0000000e+00 4.4841551e-44 4.6242849e-44]\n [4.4841551e-44 4.4841551e-44 4.4841551e-44 1.0000000e+00 4.6242849e-44]\n [9.9999988e-01 9.9999994e-01 4.6242849e-44 4.6242849e-44 1.0000000e+00]]\n[1.1920929e-07 1.1920929e-07 1.0000000e+00 1.0000000e+00 2.9999998e+00]\n"
    }
   ],
   "source": [
    "def applyNoise(labels, noise_factor=1e-3):\n",
    "    labels_cp = labels.clone()\n",
    "    noise = torch.rand(labels.shape).cuda()\n",
    "    noise = noise/(torch.sum(noise)*(1/noise_factor))\n",
    "    labels_cp += noise\n",
    "\n",
    "    labels_cp[torch.where(labels_cp >= 1)] -= noise_factor\n",
    "    return labels_cp\n",
    "\n",
    "test = labels_oh[12*5:(12*5)+5]\n",
    "test = applyNoise(test)\n",
    "print(test)\n",
    "print(torch.sum(test,dim=1))\n",
    "\n",
    "A = rbf_kernel(test.cpu(), test.cpu(), gamma=1/(2*(0.1**2)))\n",
    "print(A)\n",
    "\n",
    "w = linalg.eigh(A, eigvals_only=True)\n",
    "print(w)"
   ]
  },
  {
   "cell_type": "code",
   "execution_count": 12,
   "metadata": {},
   "outputs": [],
   "source": [
    "def testingEigenvaluesComputation(data):\n",
    "    for impl in [np.linalg.eig, np.linalg.eigh, LA.eig, LA.eigh]:\n",
    "        print(\"My RBF\")\n",
    "\n",
    "        A = (RBF(test, 0.1) / len(test)).numpy()\n",
    "        w, v = impl(A) \n",
    "        print(np.sort(w))\n",
    "        reconstructed = np.dot(v * w, v.conj().T)\n",
    "        print(\"Allclose:\", np.allclose(reconstructed, A), '\\n')\n",
    "        print(\"---\"*3)\n",
    "\n",
    "        print(\"Scikit-learn's RBF\")\n",
    "        A = rbf_kernel(test.cpu(), test.cpu(), gamma=(-1/(0.1**2))) / len(test)\n",
    "        w, v = impl(A)\n",
    "        print(np.sort(w))\n",
    "        reconstructed = np.dot(v * w, v.conj().T)\n",
    "        print(\"Allclose:\", np.allclose(reconstructed, A), '\\n\\n\\n')"
   ]
  },
  {
   "cell_type": "code",
   "execution_count": 32,
   "metadata": {
    "tags": []
   },
   "outputs": [
    {
     "output_type": "stream",
     "name": "stdout",
     "text": "Test 0\n\n10\n&lt;function eig at 0x7f9ef9cd78c0&gt;\nMy RBF\n[1.4012985e-45 1.4012985e-45 1.4012985e-45 1.4012985e-45 3.3333335e-02\n 3.3333335e-02 3.3333335e-02 3.3333335e-02 3.3333335e-02 3.3333335e-02\n 3.3333335e-02 3.3333335e-02 3.3333335e-02 3.3333335e-02 3.3333335e-02\n 3.3333335e-02 3.3333335e-02 3.3333335e-02 3.3333335e-02 3.3333335e-02\n 3.3333335e-02 3.3333335e-02 3.3333335e-02 3.3333335e-02 3.3333335e-02\n 3.3333335e-02 3.3333335e-02 3.3333335e-02 3.3333335e-02 3.3333335e-02]\nAllclose: True \n\n---------\nScikit-learn&#39;s RBF\n[0.03333332 0.03333333 0.03333334 0.03333334 0.03333334 0.03333334\n 0.03333334 0.03333334 0.03333334 0.03333334 0.03333334 0.03333334\n 0.03333334 0.03333334 0.03333334 0.03333334 0.03333334 0.03333334\n 0.03333334 0.03333334 0.03333334 0.03333334 0.03333334 0.03333334\n 0.03333334 0.03333334 0.03333334 0.03333334 0.03333334 0.03333334]\nAllclose: True \n\n\n\n&lt;function eigh at 0x7f9ef9cd7a70&gt;\nMy RBF\n[1.4012985e-45 1.4012985e-45 1.4012985e-45 1.4012985e-45 3.3333335e-02\n 3.3333335e-02 3.3333335e-02 3.3333335e-02 3.3333335e-02 3.3333335e-02\n 3.3333335e-02 3.3333335e-02 3.3333335e-02 3.3333335e-02 3.3333335e-02\n 3.3333335e-02 3.3333335e-02 3.3333335e-02 3.3333335e-02 3.3333335e-02\n 3.3333335e-02 3.3333335e-02 3.3333335e-02 3.3333335e-02 3.3333335e-02\n 3.3333335e-02 3.3333335e-02 3.3333335e-02 3.3333335e-02 3.3333335e-02]\nAllclose: True \n\n---------\nScikit-learn&#39;s RBF\n[0.03333332 0.03333333 0.03333334 0.03333334 0.03333334 0.03333334\n 0.03333334 0.03333334 0.03333334 0.03333334 0.03333334 0.03333334\n 0.03333334 0.03333334 0.03333334 0.03333334 0.03333334 0.03333334\n 0.03333334 0.03333334 0.03333334 0.03333334 0.03333334 0.03333334\n 0.03333334 0.03333334 0.03333334 0.03333334 0.03333334 0.03333334]\nAllclose: True \n\n\n\n&lt;function eig at 0x7f9e9cf74b90&gt;\nMy RBF\n[1.4012985e-45+0.j 1.4012985e-45+0.j 1.4012985e-45+0.j 1.4012985e-45+0.j\n 3.3333335e-02+0.j 3.3333335e-02+0.j 3.3333335e-02+0.j 3.3333335e-02+0.j\n 3.3333335e-02+0.j 3.3333335e-02+0.j 3.3333335e-02+0.j 3.3333335e-02+0.j\n 3.3333335e-02+0.j 3.3333335e-02+0.j 3.3333335e-02+0.j 3.3333335e-02+0.j\n 3.3333335e-02+0.j 3.3333335e-02+0.j 3.3333335e-02+0.j 3.3333335e-02+0.j\n 3.3333335e-02+0.j 3.3333335e-02+0.j 3.3333335e-02+0.j 3.3333335e-02+0.j\n 3.3333335e-02+0.j 3.3333335e-02+0.j 3.3333335e-02+0.j 3.3333335e-02+0.j\n 3.3333335e-02+0.j 3.3333335e-02+0.j]\nAllclose: True \n\n---------\nScikit-learn&#39;s RBF\n[0.03333332+0.j 0.03333333+0.j 0.03333334+0.j 0.03333334+0.j\n 0.03333334+0.j 0.03333334+0.j 0.03333334+0.j 0.03333334+0.j\n 0.03333334+0.j 0.03333334+0.j 0.03333334+0.j 0.03333334+0.j\n 0.03333334+0.j 0.03333334+0.j 0.03333334+0.j 0.03333334+0.j\n 0.03333334+0.j 0.03333334+0.j 0.03333334+0.j 0.03333334+0.j\n 0.03333334+0.j 0.03333334+0.j 0.03333334+0.j 0.03333334+0.j\n 0.03333334+0.j 0.03333334+0.j 0.03333334+0.j 0.03333334+0.j\n 0.03333334+0.j 0.03333334+0.j]\nAllclose: True \n\n\n\n&lt;function eigh at 0x7f9e9cf74c20&gt;\nMy RBF\n[1.4012985e-45 1.4012985e-45 1.4012985e-45 1.4012985e-45 3.3333335e-02\n 3.3333335e-02 3.3333335e-02 3.3333335e-02 3.3333335e-02 3.3333335e-02\n 3.3333335e-02 3.3333335e-02 3.3333335e-02 3.3333335e-02 3.3333335e-02\n 3.3333335e-02 3.3333335e-02 3.3333335e-02 3.3333335e-02 3.3333335e-02\n 3.3333335e-02 3.3333335e-02 3.3333335e-02 3.3333335e-02 3.3333335e-02\n 3.3333335e-02 3.3333335e-02 3.3333335e-02 3.3333335e-02 3.3333335e-02]\nAllclose: True \n\n---------\nScikit-learn&#39;s RBF\n[0.03333332 0.03333333 0.03333334 0.03333334 0.03333334 0.03333334\n 0.03333334 0.03333334 0.03333334 0.03333334 0.03333334 0.03333334\n 0.03333334 0.03333334 0.03333334 0.03333334 0.03333334 0.03333334\n 0.03333334 0.03333334 0.03333334 0.03333334 0.03333334 0.03333334\n 0.03333334 0.03333334 0.03333334 0.03333334 0.03333334 0.03333334]\nAllclose: True \n\n\n\n"
    }
   ],
   "source": [
    "# from numpy import linalg as LA\n",
    "# https://stackoverflow.com/questions/36819739/scipy-eigh-gives-negative-eigenvalues-for-positive-semidefinite-matrix Take a look\n",
    "from scipy import linalg as LA\n",
    "\n",
    "length=30\n",
    "n_iter = (int)(len(labels)/length)\n",
    "\n",
    "\n",
    "for idx in range(n_iter):\n",
    "    print(\"Test {}\\n\".format(idx))\n",
    "    start = idx*length\n",
    "    end = start+length\n",
    "    if start > len(labels_oh):\n",
    "        break \n",
    "\n",
    "    test = labels_oh[start:end]\n",
    "    test = applyNoise(test, noise_factor=1e3)\n",
    "    # print(test)\n",
    "    print(np.linalg.matrix_rank(test.cpu().numpy()))\n",
    "\n",
    "    for impl in [np.linalg.eig, np.linalg.eigh, LA.eig, LA.eigh]:\n",
    "        print(impl)\n",
    "        print(\"My RBF\")\n",
    "\n",
    "        A = RBF(test, 0.1) / len(test)\n",
    "        w_0, v = impl(A.cpu()) \n",
    "        print(np.sort(w_0))\n",
    "        reconstructed = np.dot(v * w_0, v.conj().T)\n",
    "        print(\"Allclose:\", np.allclose(reconstructed, A.cpu()), '\\n')\n",
    "        print(\"---\"*3)\n",
    "\n",
    "        print(\"Scikit-learn's RBF\")\n",
    "        A = rbf_kernel(test.cpu(), test.cpu(), gamma=(1/(0.1**2))) / len(test)\n",
    "        w_1, v = impl(A)\n",
    "        print(np.sort(w_1))\n",
    "        reconstructed = np.dot(v * w_1, v.conj().T)\n",
    "        print(\"Allclose:\", np.allclose(reconstructed, A), '\\n\\n\\n')\n",
    "    \n",
    "    break"
   ]
  },
  {
   "cell_type": "code",
   "execution_count": 16,
   "metadata": {
    "tags": []
   },
   "outputs": [
    {
     "output_type": "stream",
     "name": "stdout",
     "text": "tensor([[5.9298e-05, 5.8598e-04, 6.4573e-04, 1.4035e-04, 9.0024e-01, 4.5300e-04,\n         7.8233e-05, 6.4281e-04, 1.4221e-04, 4.6531e-04],\n        [1.6451e-05, 5.5122e-04, 3.0966e-05, 2.3976e-04, 9.0041e-01, 4.4524e-05,\n         4.0935e-04, 2.8034e-04, 3.8389e-04, 5.8039e-04],\n        [6.0775e-04, 5.0877e-04, 2.4663e-04, 1.8725e-04, 4.8544e-04, 3.8478e-04,\n         9.0005e-01, 2.5185e-04, 5.1361e-04, 2.7664e-04],\n        [9.0055e-01, 3.4731e-05, 3.1741e-04, 5.0321e-04, 2.8460e-05, 1.0804e-04,\n         5.9840e-04, 4.9223e-04, 4.6402e-04, 1.4343e-04],\n        [8.7881e-05, 3.4592e-04, 4.3869e-04, 3.7832e-04, 9.0030e-01, 2.4914e-04,\n         5.6799e-04, 6.9193e-05, 5.5812e-04, 1.8854e-04],\n        [1.9141e-04, 4.4549e-04, 8.8108e-05, 5.0148e-04, 3.5250e-04, 9.0022e-01,\n         1.1671e-04, 2.3328e-04, 1.3959e-04, 4.6515e-04],\n        [5.5613e-04, 2.5653e-04, 1.1582e-05, 5.6624e-04, 2.8845e-04, 3.0497e-04,\n         9.0047e-01, 1.0449e-04, 4.1822e-04, 7.5200e-05],\n        [9.1003e-05, 9.0056e-01, 4.6132e-04, 1.3503e-04, 6.1314e-04, 2.0035e-04,\n         1.1796e-04, 3.6520e-04, 2.9724e-04, 2.1759e-04],\n        [9.0051e-01, 2.5829e-04, 3.6200e-04, 6.4929e-05, 4.3793e-04, 1.4374e-04,\n         3.1312e-04, 2.3507e-04, 6.0147e-04, 6.4214e-04],\n        [9.0010e-01, 5.4010e-05, 3.9352e-04, 5.5512e-04, 1.4896e-04, 6.0939e-04,\n         1.3251e-04, 2.2449e-04, 4.2121e-04, 4.2676e-04],\n        [3.3770e-04, 9.0052e-01, 1.5104e-04, 3.2958e-04, 5.7545e-04, 3.3368e-04,\n         4.2339e-04, 2.5700e-04, 4.3924e-04, 5.5119e-04],\n        [5.6078e-05, 5.1170e-04, 1.4903e-04, 1.9777e-06, 3.7130e-04, 6.1492e-04,\n         3.5103e-04, 9.0050e-01, 4.7688e-04, 2.4838e-04],\n        [3.2471e-04, 9.0059e-01, 5.5026e-04, 5.4372e-04, 2.6903e-05, 6.3286e-04,\n         6.1568e-04, 5.8004e-04, 4.1278e-04, 7.4938e-05],\n        [5.6633e-04, 1.2523e-04, 6.4023e-05, 4.5841e-04, 4.3327e-04, 2.1344e-04,\n         9.0001e-01, 2.9589e-04, 5.0909e-04, 4.5522e-04],\n        [2.9937e-04, 5.9028e-04, 3.5925e-04, 9.0006e-01, 2.5017e-04, 5.5727e-04,\n         6.2515e-04, 6.0585e-04, 3.9320e-04, 5.2924e-04],\n        [9.0044e-01, 2.9877e-04, 3.2097e-04, 1.8304e-04, 7.5737e-05, 4.5599e-04,\n         2.7048e-04, 4.7699e-04, 4.7845e-05, 1.7278e-04],\n        [2.0013e-04, 1.5204e-04, 9.0000e-01, 1.5920e-04, 5.6498e-04, 1.2556e-04,\n         3.8396e-04, 1.1239e-04, 3.8145e-04, 5.7968e-04],\n        [5.6355e-04, 9.0019e-01, 6.3523e-04, 1.0459e-05, 1.1249e-04, 4.1303e-04,\n         6.1781e-04, 3.8633e-04, 5.7389e-04, 1.3950e-05],\n        [8.5238e-05, 9.0058e-01, 6.0879e-04, 1.4885e-05, 7.6602e-05, 3.4096e-04,\n         3.6127e-04, 5.2918e-04, 8.2905e-05, 4.1541e-04],\n        [1.1709e-04, 1.0107e-04, 1.5614e-04, 5.6121e-05, 3.1248e-04, 5.6371e-04,\n         4.9006e-04, 9.0016e-01, 4.1287e-04, 2.3928e-05],\n        [4.3130e-04, 1.5139e-04, 3.5738e-04, 6.4451e-04, 1.3569e-04, 6.0617e-04,\n         1.2406e-04, 2.5792e-04, 2.0766e-04, 9.0061e-01],\n        [9.0055e-01, 6.0750e-04, 3.8835e-04, 5.9474e-04, 2.6493e-04, 1.9474e-04,\n         6.4079e-05, 2.3736e-04, 6.6776e-05, 3.8546e-04],\n        [2.7648e-04, 5.2659e-04, 9.0020e-01, 2.7264e-04, 5.9191e-04, 3.1209e-04,\n         6.6778e-05, 2.5096e-04, 4.8050e-04, 3.5282e-04],\n        [3.5981e-04, 5.6477e-04, 1.5901e-04, 6.2168e-04, 5.5238e-04, 4.1666e-04,\n         9.0006e-01, 4.9581e-04, 1.4389e-04, 3.7631e-04],\n        [1.6264e-04, 4.2970e-04, 5.8279e-04, 6.3388e-04, 4.7091e-04, 1.4006e-04,\n         5.4705e-04, 9.0029e-01, 1.4488e-04, 6.4417e-04],\n        [1.7696e-05, 2.4432e-05, 1.6392e-04, 3.6012e-04, 6.0515e-04, 1.7033e-04,\n         2.1983e-04, 5.1370e-04, 9.0053e-01, 3.5928e-04],\n        [2.1163e-04, 5.9663e-04, 2.4002e-04, 9.0056e-01, 2.8922e-04, 2.1611e-04,\n         4.4541e-04, 1.4840e-04, 5.8609e-04, 2.4281e-04],\n        [5.8358e-04, 1.9244e-04, 5.2468e-04, 5.7816e-04, 6.0849e-04, 5.2765e-04,\n         2.9003e-04, 2.3190e-04, 8.6061e-06, 9.0012e-01],\n        [9.0027e-01, 6.2597e-04, 4.7059e-04, 3.1855e-04, 1.9958e-04, 3.7203e-05,\n         2.6164e-04, 2.9281e-04, 4.5341e-04, 3.9323e-04],\n        [1.8291e-04, 2.8529e-04, 2.5842e-04, 3.6306e-04, 9.0009e-01, 5.8631e-04,\n         2.5661e-04, 5.2801e-04, 2.0584e-04, 5.7017e-04]], device=&#39;cuda:0&#39;)\nLos kernels no dan el mismo resultado\n[4.5489487e-06 8.7456174e-06 1.9658892e-05 2.3841858e-05 3.0091016e-05\n 3.5762787e-05 4.3495453e-05 4.7290840e-05 4.7743320e-05 4.9352646e-05\n 5.8072041e-05 6.1174098e-05 7.0952628e-05 7.1525574e-05 7.8519435e-05\n 1.0433202e-04 1.1591364e-04 1.2502073e-04 1.5139086e-04 1.6484901e-04\n 9.9999416e-01 1.0000000e+00 1.9999285e+00 1.9999413e+00 1.9999762e+00\n 2.9998014e+00 3.9997914e+00 3.9998777e+00 4.9996638e+00 5.9996743e+00]\nAllclose: True \n\n[4.5489487e-06 8.7456174e-06 1.9658892e-05 2.3841858e-05 3.0091016e-05\n 3.5762787e-05 4.3495453e-05 4.7290840e-05 4.7743320e-05 4.9352646e-05\n 5.8072041e-05 6.1174098e-05 7.0952628e-05 7.1525574e-05 7.8519435e-05\n 1.0433202e-04 1.1591364e-04 1.2502073e-04 1.5139086e-04 1.6484901e-04\n 9.9999416e-01 1.0000000e+00 1.9999285e+00 1.9999413e+00 1.9999762e+00\n 2.9998014e+00 3.9997914e+00 3.9998777e+00 4.9996638e+00 5.9996743e+00]\nAllclose: True \n\n[4.6917321e-06+0.j 8.9842451e-06+0.j 1.9584941e-05+0.j 2.3886198e-05+0.j\n 3.0080681e-05+0.j 3.5684745e-05+0.j 4.3472162e-05+0.j 4.7294448e-05+0.j\n 4.7733556e-05+0.j 4.9439546e-05+0.j 5.8168469e-05+0.j 6.1263439e-05+0.j\n 7.1050403e-05+0.j 7.1464070e-05+0.j 7.8544748e-05+0.j 1.0453164e-04+0.j\n 1.1595132e-04+0.j 1.2496579e-04+0.j 1.5144615e-04+0.j 1.6489570e-04+0.j\n 9.9999416e-01+0.j 1.0000000e+00+0.j 1.9999297e+00+0.j 1.9999434e+00+0.j\n 1.9999759e+00+0.j 2.9998028e+00+0.j 3.9997907e+00+0.j 3.9998775e+00+0.j\n 4.9996653e+00+0.j 5.9996743e+00+0.j]\nAllclose: False \n\n[4.4999174e-06 8.7248354e-06 1.9756473e-05 2.3800316e-05 3.0105661e-05\n 3.5666999e-05 4.3531920e-05 4.7090456e-05 4.7466248e-05 4.9331011e-05\n 5.8066806e-05 6.1289422e-05 7.0830967e-05 7.1466427e-05 7.8587931e-05\n 1.0455424e-04 1.1591215e-04 1.2497895e-04 1.5134495e-04 1.6478023e-04\n 9.9999464e-01 1.0000002e+00 1.9999276e+00 1.9999415e+00 1.9999754e+00\n 2.9998021e+00 3.9997923e+00 3.9998760e+00 4.9996619e+00 5.9996748e+00]\nAllclose: False \n\n"
    }
   ],
   "source": [
    "test = labels_oh[60:90]\n",
    "test = applyNoise(test, 0.1)\n",
    "print(test)\n",
    "A_1 = RBF(test, 0.1)\n",
    "A_2 = rbf_kernel(test.cpu(), test.cpu(), gamma=1/(0.1**2) )\n",
    "\n",
    "if np.allclose(A_1.cpu().numpy().astype(np.float64), A_2.astype(np.float64)):\n",
    "    print(\"Ambas implementaciones dan el mismo resultado\")\n",
    "else:\n",
    "    print(\"Los kernels no dan el mismo resultado\")\n",
    "\n",
    "A = A_1.cpu().numpy()\n",
    "# A = A_2\n",
    "# print(A)\n",
    "\n",
    "for impl in [np.linalg.eig, np.linalg.eigh, LA.eig, LA.eigh]:\n",
    "    w, v = impl(A)\n",
    "    print(np.sort(w))\n",
    "    reconstructed = np.dot(v * w, v.conj().T)\n",
    "    print(\"Allclose:\", np.allclose(reconstructed, A), '\\n')"
   ]
  },
  {
   "cell_type": "code",
   "execution_count": 341,
   "metadata": {
    "tags": []
   },
   "outputs": [
    {
     "output_type": "stream",
     "name": "stdout",
     "text": "[-3.01441754e+02  4.62855397e+16  5.15260753e+18]\nAllclose: True \n\n[-1.52826050e+02  4.62855397e+16  5.15260753e+18]\nAllclose: True \n\n[-3.01441754e+02+0.j  4.62855397e+16+0.j  5.15260753e+18+0.j]\nAllclose: True \n\n[-1.98000004e+02  4.62855397e+16  5.15260753e+18]\nAllclose: True \n\n"
    }
   ],
   "source": [
    "def hess_R(x):\n",
    "    d = len(x)\n",
    "    H = np.ones(d*d).reshape(d,d) / (1 - np.sum(x))**2\n",
    "    H = H + np.diag(1 / (x**2))\n",
    "    return H.astype(np.float64)\n",
    "\n",
    "x = np.array([  9.98510710e-02 ,  9.00148922e-01 ,  4.41547488e-10])\n",
    "A = hess_R(x)\n",
    "# w,v = LA.eigh(A)\n",
    "# print(w)\n",
    "\n",
    "for impl in [np.linalg.eig, np.linalg.eigh, LA.eig, LA.eigh]:\n",
    "        w, v = impl(A)\n",
    "        print(np.sort(w))\n",
    "        reconstructed = np.dot(v * w, v.conj().T)\n",
    "        print(\"Allclose:\", np.allclose(reconstructed, A), '\\n')"
   ]
  },
  {
   "cell_type": "code",
   "execution_count": 13,
   "metadata": {
    "tags": []
   },
   "outputs": [
    {
     "output_type": "stream",
     "name": "stdout",
     "text": "1.0\n0.6666666666666666\n1.0\n"
    }
   ],
   "source": [
    "from scipy.spatial import distance\n",
    "\n",
    "\n",
    "print(distance.cosine([1, 0, 0], [0, 1, 1]))\n",
    "print(distance.hamming([0, 1, 0], [0, 0, 1]))\n",
    "print(distance.jaccard([0, 1, 0], [0, 0, 0]))"
   ]
  },
  {
   "cell_type": "code",
   "execution_count": 26,
   "metadata": {
    "tags": []
   },
   "outputs": [
    {
     "output_type": "stream",
     "name": "stdout",
     "text": "0.29289321881345254\n0.0\n"
    }
   ],
   "source": [
    "print(distance.cosine([0,1],[1,1]))\n",
    "print(distance.cosine([1],[3]))"
   ]
  },
  {
   "cell_type": "code",
   "execution_count": 85,
   "metadata": {
    "tags": []
   },
   "outputs": [
    {
     "output_type": "stream",
     "name": "stdout",
     "text": "[[0 1 1 0]\n [0 0 0 1]\n [0 1 0 1]\n [0 0 1 0]\n [1 0 1 0]]\n[[2.22044605e-16 1.00000000e+00 5.00000000e-01 2.92893219e-01\n  5.00000000e-01]\n [1.00000000e+00 0.00000000e+00 2.92893219e-01 1.00000000e+00\n  1.00000000e+00]\n [5.00000000e-01 2.92893219e-01 2.22044605e-16 1.00000000e+00\n  1.00000000e+00]\n [2.92893219e-01 1.00000000e+00 1.00000000e+00 0.00000000e+00\n  2.92893219e-01]\n [5.00000000e-01 1.00000000e+00 1.00000000e+00 2.92893219e-01\n  2.22044605e-16]]\n[[0.         2.91547595 2.         2.12132034 2.80624304]\n [2.91547595 0.         2.12132034 2.         2.37170825]\n [2.         2.12132034 0.         2.91547595 2.37170825]\n [2.12132034 2.         2.91547595 0.         2.80624304]\n [2.80624304 2.37170825 2.37170825 2.80624304 0.        ]]\n"
    }
   ],
   "source": [
    "from scipy.spatial import distance\n",
    "\n",
    "labels_changed = labels_test + 1\n",
    "test = np.unpackbits(labels_changed[:5].cpu().type(torch.uint8), axis=1) \n",
    "test = test[:, -4:]\n",
    "# print(test)\n",
    "print(test[:5])\n",
    "print(distance.cdist(test, test, metric='cosine'))\n",
    "print(distance.cdist(test, test, metric='mahalanobis')) "
   ]
  },
  {
   "cell_type": "code",
   "execution_count": 24,
   "metadata": {},
   "outputs": [
    {
     "output_type": "execute_result",
     "data": {
      "text/plain": "tensor([[5.],\n        [0.],\n        [4.],\n        [1.],\n        [9.],\n        [2.],\n        [1.],\n        [3.],\n        [1.],\n        [4.]], device=&#39;cuda:0&#39;)"
     },
     "metadata": {},
     "execution_count": 24
    }
   ],
   "source": [
    "labels_test[:10]"
   ]
  },
  {
   "cell_type": "code",
   "execution_count": 83,
   "metadata": {
    "tags": []
   },
   "outputs": [
    {
     "output_type": "error",
     "ename": "LinAlgError",
     "evalue": "Singular matrix",
     "traceback": [
      "\u001b[0;31m---------------------------------------------------------------------------\u001b[0m",
      "\u001b[0;31mLinAlgError\u001b[0m                               Traceback (most recent call last)",
      "\u001b[0;32m&lt;ipython-input-83-4f16257115f8&gt;\u001b[0m in \u001b[0;36m&lt;module&gt;\u001b[0;34m\u001b[0m\n\u001b[1;32m     10\u001b[0m \u001b[0mtest\u001b[0m \u001b[0;34m=\u001b[0m \u001b[0mlabels_oh\u001b[0m\u001b[0;34m[\u001b[0m\u001b[0;34m:\u001b[0m\u001b[0;36m10\u001b[0m\u001b[0;34m]\u001b[0m\u001b[0;34m.\u001b[0m\u001b[0mcpu\u001b[0m\u001b[0;34m(\u001b[0m\u001b[0;34m)\u001b[0m\u001b[0;34m.\u001b[0m\u001b[0mnumpy\u001b[0m\u001b[0;34m(\u001b[0m\u001b[0;34m)\u001b[0m\u001b[0;34m\u001b[0m\u001b[0;34m\u001b[0m\u001b[0m\n\u001b[1;32m     11\u001b[0m \u001b[0;34m\u001b[0m\u001b[0m\n\u001b[0;32m---&gt; 12\u001b[0;31m \u001b[0mA\u001b[0m \u001b[0;34m=\u001b[0m \u001b[0mRBF_labels\u001b[0m\u001b[0;34m(\u001b[0m\u001b[0mtest\u001b[0m\u001b[0;34m,\u001b[0m \u001b[0;36m0.1\u001b[0m\u001b[0;34m)\u001b[0m \u001b[0;34m/\u001b[0m \u001b[0mlen\u001b[0m\u001b[0;34m(\u001b[0m\u001b[0mtest\u001b[0m\u001b[0;34m)\u001b[0m\u001b[0;34m\u001b[0m\u001b[0;34m\u001b[0m\u001b[0m\n\u001b[0m\u001b[1;32m     13\u001b[0m \u001b[0mw\u001b[0m\u001b[0;34m,\u001b[0m \u001b[0mv\u001b[0m \u001b[0;34m=\u001b[0m \u001b[0mnp\u001b[0m\u001b[0;34m.\u001b[0m\u001b[0mlinalg\u001b[0m\u001b[0;34m.\u001b[0m\u001b[0meigh\u001b[0m\u001b[0;34m(\u001b[0m\u001b[0mA\u001b[0m\u001b[0;34m)\u001b[0m\u001b[0;34m\u001b[0m\u001b[0;34m\u001b[0m\u001b[0m\n\u001b[1;32m     14\u001b[0m \u001b[0mprint\u001b[0m\u001b[0;34m(\u001b[0m\u001b[0mw\u001b[0m\u001b[0;34m)\u001b[0m\u001b[0;34m\u001b[0m\u001b[0;34m\u001b[0m\u001b[0m\n",
      "\u001b[0;32m&lt;ipython-input-83-4f16257115f8&gt;\u001b[0m in \u001b[0;36mRBF_labels\u001b[0;34m(x, sigma)\u001b[0m\n\u001b[1;32m      2\u001b[0m \u001b[0;34m\u001b[0m\u001b[0m\n\u001b[1;32m      3\u001b[0m \u001b[0;32mdef\u001b[0m \u001b[0mRBF_labels\u001b[0m\u001b[0;34m(\u001b[0m\u001b[0mx\u001b[0m\u001b[0;34m,\u001b[0m \u001b[0msigma\u001b[0m\u001b[0;34m)\u001b[0m\u001b[0;34m:\u001b[0m\u001b[0;34m\u001b[0m\u001b[0;34m\u001b[0m\u001b[0m\n\u001b[0;32m----&gt; 4\u001b[0;31m     \u001b[0mdistance_x\u001b[0m \u001b[0;34m=\u001b[0m \u001b[0mdistance\u001b[0m\u001b[0;34m.\u001b[0m\u001b[0mcdist\u001b[0m\u001b[0;34m(\u001b[0m\u001b[0mx\u001b[0m\u001b[0;34m,\u001b[0m \u001b[0mx\u001b[0m\u001b[0;34m,\u001b[0m \u001b[0mmetric\u001b[0m\u001b[0;34m=\u001b[0m\u001b[0;34m&#39;mahalanobis&#39;\u001b[0m\u001b[0;34m)\u001b[0m\u001b[0;34m\u001b[0m\u001b[0;34m\u001b[0m\u001b[0m\n\u001b[0m\u001b[1;32m      5\u001b[0m     \u001b[0;32mreturn\u001b[0m \u001b[0mnp\u001b[0m\u001b[0;34m.\u001b[0m\u001b[0mexp\u001b[0m\u001b[0;34m(\u001b[0m\u001b[0;34m-\u001b[0m\u001b[0;34m(\u001b[0m\u001b[0;36m1\u001b[0m\u001b[0;34m/\u001b[0m\u001b[0;34m(\u001b[0m\u001b[0msigma\u001b[0m\u001b[0;34m**\u001b[0m\u001b[0;36m2\u001b[0m\u001b[0;34m)\u001b[0m\u001b[0;34m)\u001b[0m \u001b[0;34m*\u001b[0m \u001b[0;34m(\u001b[0m\u001b[0mdistance_x\u001b[0m\u001b[0;34m**\u001b[0m\u001b[0;36m2\u001b[0m\u001b[0;34m)\u001b[0m\u001b[0;34m)\u001b[0m\u001b[0;34m\u001b[0m\u001b[0;34m\u001b[0m\u001b[0m\n\u001b[1;32m      6\u001b[0m \u001b[0;34m\u001b[0m\u001b[0m\n",
      "\u001b[0;32m~/Workspace/Anaconda/Miniconda/envs/DeepLearning/lib/python3.7/site-packages/scipy/spatial/distance.py\u001b[0m in \u001b[0;36mcdist\u001b[0;34m(XA, XB, metric, *args, **kwargs)\u001b[0m\n\u001b[1;32m   2765\u001b[0m         \u001b[0;32mif\u001b[0m \u001b[0mmetric_name\u001b[0m \u001b[0;32mis\u001b[0m \u001b[0;32mnot\u001b[0m \u001b[0;32mNone\u001b[0m\u001b[0;34m:\u001b[0m\u001b[0;34m\u001b[0m\u001b[0;34m\u001b[0m\u001b[0m\n\u001b[1;32m   2766\u001b[0m             XA, XB, typ, kwargs = _validate_cdist_input(XA, XB, mA, mB, n,\n\u001b[0;32m-&gt; 2767\u001b[0;31m                                                         metric_name, **kwargs)\n\u001b[0m\u001b[1;32m   2768\u001b[0m             \u001b[0;31m# get cdist wrapper\u001b[0m\u001b[0;34m\u001b[0m\u001b[0;34m\u001b[0m\u001b[0;34m\u001b[0m\u001b[0m\n\u001b[1;32m   2769\u001b[0m             cdist_fn = getattr(_distance_wrap,\n",
      "\u001b[0;32m~/Workspace/Anaconda/Miniconda/envs/DeepLearning/lib/python3.7/site-packages/scipy/spatial/distance.py\u001b[0m in \u001b[0;36m_validate_cdist_input\u001b[0;34m(XA, XB, mA, mB, n, metric_name, **kwargs)\u001b[0m\n\u001b[1;32m    250\u001b[0m         \u001b[0m_validate_kwargs\u001b[0m \u001b[0;34m=\u001b[0m \u001b[0m_METRICS\u001b[0m\u001b[0;34m[\u001b[0m\u001b[0mmetric_name\u001b[0m\u001b[0;34m]\u001b[0m\u001b[0;34m.\u001b[0m\u001b[0mvalidator\u001b[0m\u001b[0;34m\u001b[0m\u001b[0;34m\u001b[0m\u001b[0m\n\u001b[1;32m    251\u001b[0m         \u001b[0;32mif\u001b[0m \u001b[0m_validate_kwargs\u001b[0m\u001b[0;34m:\u001b[0m\u001b[0;34m\u001b[0m\u001b[0;34m\u001b[0m\u001b[0m\n\u001b[0;32m--&gt; 252\u001b[0;31m             \u001b[0mkwargs\u001b[0m \u001b[0;34m=\u001b[0m \u001b[0m_validate_kwargs\u001b[0m\u001b[0;34m(\u001b[0m\u001b[0mnp\u001b[0m\u001b[0;34m.\u001b[0m\u001b[0mvstack\u001b[0m\u001b[0;34m(\u001b[0m\u001b[0;34m[\u001b[0m\u001b[0mXA\u001b[0m\u001b[0;34m,\u001b[0m \u001b[0mXB\u001b[0m\u001b[0;34m]\u001b[0m\u001b[0;34m)\u001b[0m\u001b[0;34m,\u001b[0m \u001b[0mmA\u001b[0m \u001b[0;34m+\u001b[0m \u001b[0mmB\u001b[0m\u001b[0;34m,\u001b[0m \u001b[0mn\u001b[0m\u001b[0;34m,\u001b[0m \u001b[0;34m**\u001b[0m\u001b[0mkwargs\u001b[0m\u001b[0;34m)\u001b[0m\u001b[0;34m\u001b[0m\u001b[0;34m\u001b[0m\u001b[0m\n\u001b[0m\u001b[1;32m    253\u001b[0m     \u001b[0;32melse\u001b[0m\u001b[0;34m:\u001b[0m\u001b[0;34m\u001b[0m\u001b[0;34m\u001b[0m\u001b[0m\n\u001b[1;32m    254\u001b[0m         \u001b[0mtyp\u001b[0m \u001b[0;34m=\u001b[0m \u001b[0;32mNone\u001b[0m\u001b[0;34m\u001b[0m\u001b[0;34m\u001b[0m\u001b[0m\n",
      "\u001b[0;32m~/Workspace/Anaconda/Miniconda/envs/DeepLearning/lib/python3.7/site-packages/scipy/spatial/distance.py\u001b[0m in \u001b[0;36m_validate_mahalanobis_kwargs\u001b[0;34m(X, m, n, **kwargs)\u001b[0m\n\u001b[1;32m    278\u001b[0m                              &quot;are required.&quot; % (m, n, n + 1))\n\u001b[1;32m    279\u001b[0m         \u001b[0mCV\u001b[0m \u001b[0;34m=\u001b[0m \u001b[0mnp\u001b[0m\u001b[0;34m.\u001b[0m\u001b[0matleast_2d\u001b[0m\u001b[0;34m(\u001b[0m\u001b[0mnp\u001b[0m\u001b[0;34m.\u001b[0m\u001b[0mcov\u001b[0m\u001b[0;34m(\u001b[0m\u001b[0mX\u001b[0m\u001b[0;34m.\u001b[0m\u001b[0mastype\u001b[0m\u001b[0;34m(\u001b[0m\u001b[0mnp\u001b[0m\u001b[0;34m.\u001b[0m\u001b[0mdouble\u001b[0m\u001b[0;34m)\u001b[0m\u001b[0;34m.\u001b[0m\u001b[0mT\u001b[0m\u001b[0;34m)\u001b[0m\u001b[0;34m)\u001b[0m\u001b[0;34m\u001b[0m\u001b[0;34m\u001b[0m\u001b[0m\n\u001b[0;32m--&gt; 280\u001b[0;31m         \u001b[0mVI\u001b[0m \u001b[0;34m=\u001b[0m \u001b[0mnp\u001b[0m\u001b[0;34m.\u001b[0m\u001b[0mlinalg\u001b[0m\u001b[0;34m.\u001b[0m\u001b[0minv\u001b[0m\u001b[0;34m(\u001b[0m\u001b[0mCV\u001b[0m\u001b[0;34m)\u001b[0m\u001b[0;34m.\u001b[0m\u001b[0mT\u001b[0m\u001b[0;34m.\u001b[0m\u001b[0mcopy\u001b[0m\u001b[0;34m(\u001b[0m\u001b[0;34m)\u001b[0m\u001b[0;34m\u001b[0m\u001b[0;34m\u001b[0m\u001b[0m\n\u001b[0m\u001b[1;32m    281\u001b[0m     \u001b[0mkwargs\u001b[0m\u001b[0;34m[\u001b[0m\u001b[0;34m&quot;VI&quot;\u001b[0m\u001b[0;34m]\u001b[0m \u001b[0;34m=\u001b[0m \u001b[0m_convert_to_double\u001b[0m\u001b[0;34m(\u001b[0m\u001b[0mVI\u001b[0m\u001b[0;34m)\u001b[0m\u001b[0;34m\u001b[0m\u001b[0;34m\u001b[0m\u001b[0m\n\u001b[1;32m    282\u001b[0m     \u001b[0;32mreturn\u001b[0m \u001b[0mkwargs\u001b[0m\u001b[0;34m\u001b[0m\u001b[0;34m\u001b[0m\u001b[0m\n",
      "\u001b[0;32m&lt;__array_function__ internals&gt;\u001b[0m in \u001b[0;36minv\u001b[0;34m(*args, **kwargs)\u001b[0m\n",
      "\u001b[0;32m~/Workspace/Anaconda/Miniconda/envs/DeepLearning/lib/python3.7/site-packages/numpy/linalg/linalg.py\u001b[0m in \u001b[0;36minv\u001b[0;34m(a)\u001b[0m\n\u001b[1;32m    544\u001b[0m     \u001b[0msignature\u001b[0m \u001b[0;34m=\u001b[0m \u001b[0;34m&#39;D-&gt;D&#39;\u001b[0m \u001b[0;32mif\u001b[0m \u001b[0misComplexType\u001b[0m\u001b[0;34m(\u001b[0m\u001b[0mt\u001b[0m\u001b[0;34m)\u001b[0m \u001b[0;32melse\u001b[0m \u001b[0;34m&#39;d-&gt;d&#39;\u001b[0m\u001b[0;34m\u001b[0m\u001b[0;34m\u001b[0m\u001b[0m\n\u001b[1;32m    545\u001b[0m     \u001b[0mextobj\u001b[0m \u001b[0;34m=\u001b[0m \u001b[0mget_linalg_error_extobj\u001b[0m\u001b[0;34m(\u001b[0m\u001b[0m_raise_linalgerror_singular\u001b[0m\u001b[0;34m)\u001b[0m\u001b[0;34m\u001b[0m\u001b[0;34m\u001b[0m\u001b[0m\n\u001b[0;32m--&gt; 546\u001b[0;31m     \u001b[0mainv\u001b[0m \u001b[0;34m=\u001b[0m \u001b[0m_umath_linalg\u001b[0m\u001b[0;34m.\u001b[0m\u001b[0minv\u001b[0m\u001b[0;34m(\u001b[0m\u001b[0ma\u001b[0m\u001b[0;34m,\u001b[0m \u001b[0msignature\u001b[0m\u001b[0;34m=\u001b[0m\u001b[0msignature\u001b[0m\u001b[0;34m,\u001b[0m \u001b[0mextobj\u001b[0m\u001b[0;34m=\u001b[0m\u001b[0mextobj\u001b[0m\u001b[0;34m)\u001b[0m\u001b[0;34m\u001b[0m\u001b[0;34m\u001b[0m\u001b[0m\n\u001b[0m\u001b[1;32m    547\u001b[0m     \u001b[0;32mreturn\u001b[0m \u001b[0mwrap\u001b[0m\u001b[0;34m(\u001b[0m\u001b[0mainv\u001b[0m\u001b[0;34m.\u001b[0m\u001b[0mastype\u001b[0m\u001b[0;34m(\u001b[0m\u001b[0mresult_t\u001b[0m\u001b[0;34m,\u001b[0m \u001b[0mcopy\u001b[0m\u001b[0;34m=\u001b[0m\u001b[0;32mFalse\u001b[0m\u001b[0;34m)\u001b[0m\u001b[0;34m)\u001b[0m\u001b[0;34m\u001b[0m\u001b[0;34m\u001b[0m\u001b[0m\n\u001b[1;32m    548\u001b[0m \u001b[0;34m\u001b[0m\u001b[0m\n",
      "\u001b[0;32m~/Workspace/Anaconda/Miniconda/envs/DeepLearning/lib/python3.7/site-packages/numpy/linalg/linalg.py\u001b[0m in \u001b[0;36m_raise_linalgerror_singular\u001b[0;34m(err, flag)\u001b[0m\n\u001b[1;32m     86\u001b[0m \u001b[0;34m\u001b[0m\u001b[0m\n\u001b[1;32m     87\u001b[0m \u001b[0;32mdef\u001b[0m \u001b[0m_raise_linalgerror_singular\u001b[0m\u001b[0;34m(\u001b[0m\u001b[0merr\u001b[0m\u001b[0;34m,\u001b[0m \u001b[0mflag\u001b[0m\u001b[0;34m)\u001b[0m\u001b[0;34m:\u001b[0m\u001b[0;34m\u001b[0m\u001b[0;34m\u001b[0m\u001b[0m\n\u001b[0;32m---&gt; 88\u001b[0;31m     \u001b[0;32mraise\u001b[0m \u001b[0mLinAlgError\u001b[0m\u001b[0;34m(\u001b[0m\u001b[0;34m&quot;Singular matrix&quot;\u001b[0m\u001b[0;34m)\u001b[0m\u001b[0;34m\u001b[0m\u001b[0;34m\u001b[0m\u001b[0m\n\u001b[0m\u001b[1;32m     89\u001b[0m \u001b[0;34m\u001b[0m\u001b[0m\n\u001b[1;32m     90\u001b[0m \u001b[0;32mdef\u001b[0m \u001b[0m_raise_linalgerror_nonposdef\u001b[0m\u001b[0;34m(\u001b[0m\u001b[0merr\u001b[0m\u001b[0;34m,\u001b[0m \u001b[0mflag\u001b[0m\u001b[0;34m)\u001b[0m\u001b[0;34m:\u001b[0m\u001b[0;34m\u001b[0m\u001b[0;34m\u001b[0m\u001b[0m\n",
      "\u001b[0;31mLinAlgError\u001b[0m: Singular matrix"
     ]
    }
   ],
   "source": [
    "from scipy.spatial import distance\n",
    "\n",
    "def RBF_labels(x, sigma):\n",
    "    distance_x = distance.cdist(x, x, metric='mahalanobis')\n",
    "    return np.exp(-(1/(sigma**2)) * (distance_x**2))\n",
    "\n",
    "# labels_changed = labels_test + 1\n",
    "# test = np.unpackbits(labels_changed[:9].cpu().type(torch.uint8), axis=1) \n",
    "# test = test[:, -4:]\n",
    "test = labels_oh[:10].cpu().numpy()\n",
    "\n",
    "A = RBF_labels(test, 0.1) / len(test)\n",
    "w, v = np.linalg.eigh(A)\n",
    "print(w)"
   ]
  },
  {
   "cell_type": "code",
   "execution_count": 77,
   "metadata": {
    "tags": []
   },
   "outputs": [
    {
     "output_type": "stream",
     "name": "stdout",
     "text": "torch.Size([25, 25])\n10\n"
    }
   ],
   "source": [
    "def applyNoise(labels, noise_factor=1e-4):\n",
    "    labels_cp = labels.clone()\n",
    "    # noise = torch.rand(labels.shape).cuda()\n",
    "    noise = torch.tensor(np.random.rand(labels.shape[0], labels.shape[1])).cuda()\n",
    "    noise = noise/(torch.sum(noise)*(1/noise_factor))\n",
    "    labels_cp += noise\n",
    "\n",
    "    labels_cp[torch.where(labels_cp >= 1)] -= noise_factor\n",
    "    return noise\n",
    "\n",
    "test = labels_oh[:25]\n",
    "test = applyNoise(test)\n",
    "A = RBF(test, 2.100)\n",
    "print(A.shape)\n",
    "print(np.linalg.matrix_rank(A.cpu().numpy()))"
   ]
  },
  {
   "cell_type": "code",
   "execution_count": 95,
   "metadata": {
    "tags": []
   },
   "outputs": [
    {
     "output_type": "stream",
     "name": "stdout",
     "text": "tensor(1.1597, device=&#39;cuda:0&#39;)\ntensor([[0.1000, 0.0000, 0.0000, 0.0000, 0.0000, 0.0000, 0.0000, 0.0000, 0.0000,\n         0.0000],\n        [0.0000, 0.1000, 0.0000, 0.0000, 0.0000, 0.0000, 0.0000, 0.0000, 0.0000,\n         0.0000],\n        [0.0000, 0.0000, 0.1000, 0.0000, 0.0000, 0.0000, 0.0000, 0.0000, 0.0000,\n         0.1000],\n        [0.0000, 0.0000, 0.0000, 0.1000, 0.0000, 0.0000, 0.1000, 0.0000, 0.1000,\n         0.0000],\n        [0.0000, 0.0000, 0.0000, 0.0000, 0.1000, 0.0000, 0.0000, 0.0000, 0.0000,\n         0.0000],\n        [0.0000, 0.0000, 0.0000, 0.0000, 0.0000, 0.1000, 0.0000, 0.0000, 0.0000,\n         0.0000],\n        [0.0000, 0.0000, 0.0000, 0.1000, 0.0000, 0.0000, 0.1000, 0.0000, 0.1000,\n         0.0000],\n        [0.0000, 0.0000, 0.0000, 0.0000, 0.0000, 0.0000, 0.0000, 0.1000, 0.0000,\n         0.0000],\n        [0.0000, 0.0000, 0.0000, 0.1000, 0.0000, 0.0000, 0.1000, 0.0000, 0.1000,\n         0.0000],\n        [0.0000, 0.0000, 0.1000, 0.0000, 0.0000, 0.0000, 0.0000, 0.0000, 0.0000,\n         0.1000]], device=&#39;cuda:0&#39;)\n"
    }
   ],
   "source": [
    "test = labels_oh[:10]\n",
    "dist = torch.norm(test[:, None] - test, dim=2)\n",
    "sigma = torch.sort(dist)[0][:, :50].mean()\n",
    "print(sigma)\n",
    "k_l = torch.exp(-dist ** 2 / (torch.tensor(0.1) ** 2)) / dist.size(0)\n",
    "print(k_l)"
   ]
  },
  {
   "cell_type": "code",
   "execution_count": null,
   "metadata": {},
   "outputs": [],
   "source": []
  }
 ]
}