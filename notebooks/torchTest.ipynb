{
 "metadata": {
  "language_info": {
   "codemirror_mode": {
    "name": "ipython",
    "version": 3
   },
   "file_extension": ".py",
   "mimetype": "text/x-python",
   "name": "python",
   "nbconvert_exporter": "python",
   "pygments_lexer": "ipython3",
   "version": "3.7.4-final"
  },
  "orig_nbformat": 2,
  "kernelspec": {
   "name": "python_defaultSpec_1599209688798",
   "display_name": "Python 3.7.4 64-bit ('DeepLearning': conda)"
  }
 },
 "nbformat": 4,
 "nbformat_minor": 2,
 "cells": [
  {
   "cell_type": "code",
   "execution_count": 1,
   "metadata": {},
   "outputs": [],
   "source": [
    "import torch"
   ]
  },
  {
   "cell_type": "code",
   "execution_count": 5,
   "metadata": {
    "tags": []
   },
   "outputs": [
    {
     "output_type": "stream",
     "name": "stdout",
     "text": "tensor([[[[0.1843, 0.3013, 0.3743, 0.4879],\n          [0.4206, 0.2976, 0.2778, 0.3748],\n          [0.8866, 0.2181, 0.3430, 0.8237],\n          [0.9224, 0.4855, 0.2564, 0.0248]],\n\n         [[0.1465, 0.2681, 0.1474, 0.1331],\n          [0.3585, 0.0823, 0.7518, 0.3537],\n          [0.4867, 0.7306, 0.4840, 0.8436],\n          [0.6599, 0.1626, 0.1624, 0.8361]],\n\n         [[0.7450, 0.2923, 0.1383, 0.0913],\n          [0.5621, 0.5331, 0.0244, 0.3220],\n          [0.7935, 0.4395, 0.7581, 0.4293],\n          [0.7699, 0.2707, 0.0932, 0.6986]]]], requires_grad=True)\ntensor([[[[1., 1., 1., 1.],\n          [1., 1., 1., 1.],\n          [1., 1., 1., 1.],\n          [1., 1., 1., 1.]],\n\n         [[1., 1., 1., 1.],\n          [1., 1., 1., 1.],\n          [1., 1., 1., 1.],\n          [1., 1., 1., 1.]],\n\n         [[1., 1., 1., 1.],\n          [1., 1., 1., 1.],\n          [1., 1., 1., 1.],\n          [1., 1., 1., 1.]]]])\n"
    }
   ],
   "source": [
    "a = torch.rand((1,3,4,4), requires_grad=True)\n",
    "b = a.clone().detach()\n",
    "b[:]=1\n",
    "print(a)\n",
    "print(b)"
   ]
  },
  {
   "cell_type": "code",
   "execution_count": null,
   "metadata": {},
   "outputs": [],
   "source": []
  }
 ]
}