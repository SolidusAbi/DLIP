{
 "metadata": {
  "language_info": {
   "codemirror_mode": {
    "name": "ipython",
    "version": 3
   },
   "file_extension": ".py",
   "mimetype": "text/x-python",
   "name": "python",
   "nbconvert_exporter": "python",
   "pygments_lexer": "ipython3",
   "version": "3.6.10-final"
  },
  "orig_nbformat": 2,
  "kernelspec": {
   "name": "python3",
   "display_name": "Python 3"
  }
 },
 "nbformat": 4,
 "nbformat_minor": 2,
 "cells": [
  {
   "cell_type": "code",
   "execution_count": 39,
   "metadata": {},
   "outputs": [],
   "source": [
    "import torch\n",
    "import numpy as np\n",
    "\n",
    "project_dir = os.path.split(os.getcwd())[0]\n",
    "if project_dir not in sys.path:\n",
    "    sys.path.append(project_dir)\n",
    "\n",
    "from models.Paper import CNN\n",
    "from InformationPlane import TensorKernel, MutualInformation"
   ]
  },
  {
   "cell_type": "code",
   "execution_count": 49,
   "metadata": {
    "tags": []
   },
   "outputs": [
    {
     "output_type": "stream",
     "name": "stdout",
     "text": "tensor([[[[0.7525, 0.9846, 0.4575],\n          [0.5977, 0.4467, 0.9081],\n          [0.7331, 0.7528, 0.0785]]],\n\n\n        [[[0.0756, 0.6663, 0.2696],\n          [0.1421, 0.9024, 0.7948],\n          [0.9124, 0.9937, 0.5457]]],\n\n\n        [[[0.7959, 0.6191, 0.2340],\n          [0.9489, 0.7562, 0.9825],\n          [0.5304, 0.0863, 0.2953]]],\n\n\n        [[[0.7853, 0.5786, 0.6021],\n          [0.3281, 0.0440, 0.3754],\n          [0.0736, 0.7651, 0.5047]]]])\ntensor([[0., 1., 0.],\n        [0., 0., 1.],\n        [1., 0., 0.],\n        [0., 1., 0.]])\n"
    }
   ],
   "source": [
    "a = torch.rand((4,1,3,3), dtype=torch.float32)\n",
    "b = torch.zeros((4,3), dtype=torch.float32)\n",
    "b[0,1] = 1; b[1,2] = 1; b[2,0] = 1; b[3,1] = 1\n",
    "\n",
    "print(a)\n",
    "print(b)"
   ]
  },
  {
   "cell_type": "code",
   "execution_count": 50,
   "metadata": {
    "tags": []
   },
   "outputs": [],
   "source": [
    "a_flatten = torch.flatten(a, 1)\n",
    "\n",
    "# Tensor kernels definitions\n",
    "\n",
    "def RBF(x, y, sigma):\n",
    "    distance = torch.dist(x,y)\n",
    "    return torch.exp(-(distance**2)/(sigma**2))\n",
    "\n",
    "def RBF_2(x, sigma):\n",
    "    distance = torch.cdist(x, x)\n",
    "    return torch.exp(-(distance**2)/(sigma**2))\n",
    "\n",
    "# Ambas funciones dan el mismo resultado, lo doy por bueno\n"
   ]
  },
  {
   "cell_type": "code",
   "execution_count": 77,
   "metadata": {
    "tags": []
   },
   "outputs": [
    {
     "output_type": "stream",
     "name": "stdout",
     "text": "tensor([[0.2500, 0.2449, 0.2463, 0.2449],\n        [0.2449, 0.2500, 0.2413, 0.2411],\n        [0.2463, 0.2413, 0.2500, 0.2419],\n        [0.2449, 0.2411, 0.2419, 0.2500]])\ntensor([[0.2500, 0.0212, 0.0212, 0.2500],\n        [0.0212, 0.2500, 0.0212, 0.0212],\n        [0.0212, 0.0212, 0.2500, 0.0212],\n        [0.2500, 0.0212, 0.0212, 0.2500]])\n"
    }
   ],
   "source": [
    "rbf_a = RBF_2(a_flatten, 8)/len(a_flatten)\n",
    "rbf_b = RBF_2(b, 0.9)/len(b)\n",
    "\n",
    "print(rbf_a)\n",
    "print(rbf_b)"
   ]
  },
  {
   "cell_type": "code",
   "execution_count": 66,
   "metadata": {
    "tags": []
   },
   "outputs": [
    {
     "output_type": "stream",
     "name": "stdout",
     "text": "tensor([[1.0000, 0.9794, 0.9854, 0.9796],\n        [0.9794, 1.0000, 0.9653, 0.9643],\n        [0.9854, 0.9653, 1.0000, 0.9675],\n        [0.9796, 0.9643, 0.9675, 1.0000]])\n"
    }
   ],
   "source": [
    "k_0 = torch.zeros((len(a_flatten), len(a_flatten)))\n",
    "for i in range(len(a_flatten)):\n",
    "    for j in range(len(a_flatten)):\n",
    "        k_0[i,j] = RBF(a_flatten[i], a_flatten[j], 8)\n",
    "        \n",
    "print(k_0)"
   ]
  },
  {
   "cell_type": "code",
   "execution_count": 53,
   "metadata": {
    "tags": []
   },
   "outputs": [
    {
     "output_type": "stream",
     "name": "stdout",
     "text": "tensor([[1., 0., 0., 1.],\n        [0., 1., 0., 0.],\n        [0., 0., 1., 0.],\n        [1., 0., 0., 1.]])\n"
    }
   ],
   "source": [
    "k_1 = torch.zeros((len(b), len(b)))\n",
    "for i in range(len(b)):\n",
    "    for j in range(len(b)):\n",
    "        k_1[i,j] = RBF(b[i], b[j], 0.1)\n",
    "        \n",
    "print(k_1)"
   ]
  },
  {
   "cell_type": "markdown",
   "metadata": {},
   "source": [
    "# Kernel Aligment Loss"
   ]
  },
  {
   "cell_type": "code",
   "execution_count": 68,
   "metadata": {},
   "outputs": [],
   "source": [
    "def kernelAligmentLoss(x, y):\n",
    "    return ((torch.sum(x*y))/(torch.norm(x) * torch.norm(y))).item()"
   ]
  },
  {
   "cell_type": "code",
   "execution_count": 69,
   "metadata": {},
   "outputs": [
    {
     "output_type": "execute_result",
     "data": {
      "text/plain": "0.7019651532173157"
     },
     "metadata": {},
     "execution_count": 69
    }
   ],
   "source": [
    "kernelAligmentLoss(rbf_a, rbf_b)"
   ]
  },
  {
   "cell_type": "markdown",
   "metadata": {},
   "source": [
    "# Optimize sigma value"
   ]
  },
  {
   "cell_type": "code",
   "execution_count": 70,
   "metadata": {
    "tags": []
   },
   "outputs": [
    {
     "output_type": "stream",
     "name": "stdout",
     "text": "tensor([[0.7525, 0.9846, 0.4575, 0.5977, 0.4467, 0.9081, 0.7331, 0.7528, 0.0785],\n        [0.0756, 0.6663, 0.2696, 0.1421, 0.9024, 0.7948, 0.9124, 0.9937, 0.5457],\n        [0.7959, 0.6191, 0.2340, 0.9489, 0.7562, 0.9825, 0.5304, 0.0863, 0.2953],\n        [0.7853, 0.5786, 0.6021, 0.3281, 0.0440, 0.3754, 0.0736, 0.7651, 0.5047]])\ntensor(1.3704)\ntensor(1.2929)\n[ 0.13703752  0.31792703  0.49881655  0.67970607  0.86059558  1.0414851\n  1.22237462  1.40326414  1.58415365  1.76504317  1.94593269  2.1268222\n  2.30771172  2.48860124  2.66949075  2.85038027  3.03126979  3.21215931\n  3.39304882  3.57393834  3.75482786  3.93571737  4.11660689  4.29749641\n  4.47838593  4.65927544  4.84016496  5.02105448  5.20194399  5.38283351\n  5.56372303  5.74461254  5.92550206  6.10639158  6.2872811   6.46817061\n  6.64906013  6.82994965  7.01083916  7.19172868  7.3726182   7.55350772\n  7.73439723  7.91528675  8.09617627  8.27706578  8.4579553   8.63884482\n  8.81973433  9.00062385  9.18151337  9.36240289  9.5432924   9.72418192\n  9.90507144 10.08596095 10.26685047 10.44773999 10.62862951 10.80951902\n 10.99040854 11.17129806 11.35218757 11.53307709 11.71396661 11.89485613\n 12.07574564 12.25663516 12.43752468 12.61841419 12.79930371 12.98019323\n 13.16108274 13.34197226 13.52286178]\n[ 0.12928723  0.29994637  0.47060551  0.64126465  0.81192379  0.98258293\n  1.15324207  1.32390121  1.49456035  1.66521949  1.83587863  2.00653777\n  2.17719691  2.34785604  2.51851518  2.68917432  2.85983346  3.0304926\n  3.20115174  3.37181088  3.54247002  3.71312916  3.8837883   4.05444744\n  4.22510658  4.39576572  4.56642486  4.737084    4.90774314  5.07840228\n  5.24906142  5.41972056  5.5903797   5.76103884  5.93169798  6.10235712\n  6.27301626  6.4436754   6.61433454  6.78499368  6.95565282  7.12631196\n  7.2969711   7.46763024  7.63828938  7.80894852  7.97960766  8.1502668\n  8.32092594  8.49158508  8.66224422  8.83290336  9.0035625   9.17422163\n  9.34488077  9.51553991  9.68619905  9.85685819 10.02751733 10.19817647\n 10.36883561 10.53949475 10.71015389 10.88081303 11.05147217 11.22213131\n 11.39279045 11.56344959 11.73410873 11.90476787 12.07542701 12.24608615\n 12.41674529 12.58740443 12.75806357]\ntensor([[1.0000, 0.9909, 0.9936, 0.9910],\n        [0.9909, 1.0000, 0.9846, 0.9842],\n        [0.9936, 0.9846, 1.0000, 0.9856],\n        [0.9910, 0.9842, 0.9856, 1.0000]])\n[0.81166345 0.81166458 0.81323248 0.83044916 0.86199284 0.88279134\n 0.88304764 0.86916035 0.84975463 0.8300221  0.81214494 0.79671848\n 0.78367174 0.7727102  0.76349926 0.75573224 0.74914896 0.74353617\n 0.73872179 0.73456722 0.73096108 0.72781348 0.72505164 0.72261602\n 0.72045827 0.71853822 0.71682256 0.71528363 0.71389824 0.71264678\n 0.71151263 0.71048164 0.70954204 0.70868289 0.70789587 0.70717287\n 0.70650715 0.70589292 0.70532501 0.70479888 0.70431054 0.70385653\n 0.70343357 0.70303911 0.70267045 0.70232534 0.70200235 0.70169896\n 0.70141399 0.70114589 0.70089334 0.70065516 0.70043045 0.7002179\n 0.70001692 0.69982666 0.69964629 0.69947499 0.69931251 0.69915807\n 0.69901097 0.69887108 0.69873774 0.69861066 0.69848931 0.69837326\n 0.69826275 0.69815689 0.69805557 0.69795865 0.69786578 0.69777673\n 0.6976912  0.69760925 0.69753063]\n6\n1.153242066502571\n"
    }
   ],
   "source": [
    "mean_distance = torch.tensor([torch.dist(a_flatten[i-1], a_flatten[i]) for i in range(1, len(a_flatten))]).mean()\n",
    "\n",
    "distance = torch.cdist(a_flatten, a_flatten)\n",
    "mean_distance_v2 = distance[distance != 0].mean()\n",
    "\n",
    "print(a_flatten)\n",
    "print(mean_distance)\n",
    "print(mean_distance_v2)\n",
    "\n",
    "possible_sigma_values = np.arange(mean_distance*0.1, mean_distance*10, (mean_distance*10 - mean_distance*0.1)/75)\n",
    "possible_sigma_values_v2 = np.arange(mean_distance_v2*0.1, mean_distance_v2*10, (mean_distance_v2*10 - mean_distance_v2*0.1)/75)\n",
    "\n",
    "print(possible_sigma_values)\n",
    "print(possible_sigma_values_v2)\n",
    "\n",
    "# print(possible_sigma_values_v2.tolist())\n",
    "\n",
    "test = list(map(lambda sigma: RBF_2(a_flatten, sigma), possible_sigma_values_v2.tolist()))\n",
    "print(test[70])\n",
    "\n",
    "label_kernel = rbf_b\n",
    "result = np.array(list(map(lambda x: kernelAligmentLoss(x, label_kernel), test)))\n",
    "print(result)\n",
    "\n",
    "where = np.argwhere(result == result.max()).item()\n",
    "print(where)\n",
    "\n",
    "best_sigma_value = possible_sigma_values_v2[where]\n",
    "print(best_sigma_value)"
   ]
  },
  {
   "cell_type": "code",
   "execution_count": 57,
   "metadata": {
    "tags": []
   },
   "outputs": [
    {
     "output_type": "stream",
     "name": "stdout",
     "text": "tensor([[1.0000, 0.9794, 0.9854, 0.9796],\n        [0.9794, 1.0000, 0.9653, 0.9643],\n        [0.9854, 0.9653, 1.0000, 0.9675],\n        [0.9796, 0.9643, 0.9675, 1.0000]])\ntensor([[0.0000, 0.9794, 0.9854, 0.9796],\n        [0.9794, 1.0000, 0.9653, 0.9643],\n        [0.9854, 0.9653, 1.0000, 0.9675],\n        [0.9796, 0.9643, 0.9675, 1.0000]])\ntensor([[0.0000, 0.9794, 0.9854, 0.9796],\n        [0.9794, 1.0000, 0.9653, 0.9643],\n        [0.9854, 0.9653, 1.0000, 0.9675],\n        [0.9796, 0.9643, 0.9675, 1.0000]])\n"
    }
   ],
   "source": [
    "rbf_c = TensorKernel.RBF(a_flatten, 8)\n",
    "I = MutualInformation(rbf_c, rbf_b)\n",
    "print(rbf_c)\n",
    "rbf_c[0, 0] = 0\n",
    "print(rbf_c)\n",
    "print(I.input_kernel)"
   ]
  },
  {
   "cell_type": "code",
   "execution_count": 58,
   "metadata": {
    "tags": []
   },
   "outputs": [
    {
     "output_type": "stream",
     "name": "stdout",
     "text": "1.153242066502571\n"
    }
   ],
   "source": [
    "print(I.optimizeSigmaValue(a_flatten))"
   ]
  },
  {
   "cell_type": "code",
   "execution_count": 59,
   "metadata": {
    "tags": []
   },
   "outputs": [
    {
     "output_type": "stream",
     "name": "stdout",
     "text": "0\n"
    }
   ],
   "source": [
    "y = None\n",
    "x = 0\n",
    "x = 1 if not(y is None) else x\n",
    "print(x)"
   ]
  },
  {
   "cell_type": "code",
   "execution_count": 60,
   "metadata": {
    "tags": []
   },
   "outputs": [
    {
     "output_type": "stream",
     "name": "stdout",
     "text": "tensor([[1.0000, 0.9794, 0.9854, 0.9796],\n        [0.9794, 1.0000, 0.9653, 0.9643],\n        [0.9854, 0.9653, 1.0000, 0.9675],\n        [0.9796, 0.9643, 0.9675, 1.0000]])\ntorch.return_types.eig(\neigenvalues=tensor([[3.9208, 0.0000],\n        [0.0100, 0.0000],\n        [0.0329, 0.0000],\n        [0.0363, 0.0000]]),\neigenvectors=tensor([]))\n"
    }
   ],
   "source": [
    "print(rbf_a)\n",
    "print(torch.eig(rbf_a))"
   ]
  },
  {
   "cell_type": "code",
   "execution_count": 73,
   "metadata": {
    "tags": []
   },
   "outputs": [
    {
     "output_type": "stream",
     "name": "stdout",
     "text": "[[0.25       0.24485293 0.24634588 0.24488765]\n [0.24485293 0.25       0.24131835 0.24107365]\n [0.24634588 0.24131835 0.25       0.24188475]\n [0.24488765 0.24107365 0.24188475 0.25      ]]\n[0.9801942  0.00250741 0.00823296 0.0090654 ]\n[[-0.5030177  -0.8530471  -0.13365872  0.03767203]\n [-0.49849018  0.23751526  0.12795079 -0.8238463 ]\n [-0.49967963  0.41680747 -0.69081694  0.31522015]\n [-0.49879956  0.2053502   0.6989534   0.46956834]]\n"
    }
   ],
   "source": [
    "import numpy as np\n",
    "from numpy import linalg as LA\n",
    "# A = np.array([[1,2,3],[3,2,1],[1,0,-1]])\n",
    "A = rbf_a.numpy()\n",
    "print(A)\n",
    "\n",
    "w, v = LA.eig(A)\n",
    "print(w)\n",
    "\n",
    "print(v)\n"
   ]
  },
  {
   "cell_type": "code",
   "execution_count": 126,
   "metadata": {},
   "outputs": [],
   "source": [
    "def matrixRenyiEntropy(A : np.array):\n",
    "    w, _ = LA.eig(A)\n",
    "    epsilon = 1e-10\n",
    "    w += epsilon\n",
    "    entropy = -np.sum(w * np.log2(w))\n",
    "    \n",
    "    return entropy\n",
    "\n",
    "def jointRenyiEntropy(x, y):\n",
    "    aux = x*y\n",
    "    return matrixRenyiEntropy(aux/np.trace(aux))\n",
    "    "
   ]
  },
  {
   "cell_type": "code",
   "execution_count": 129,
   "metadata": {
    "tags": []
   },
   "outputs": [
    {
     "output_type": "stream",
     "name": "stdout",
     "text": "0.16847238\n1.490485\n1.5321074\n0.12685001\n"
    }
   ],
   "source": [
    "o = matrixRenyiEntropy(rbf_a.numpy())\n",
    "p = matrixRenyiEntropy(rbf_b.numpy())\n",
    "q = jointRenyiEntropy(rbf_a.numpy(), rbf_b.numpy())\n",
    "print(o)\n",
    "print(p)\n",
    "print(q)\n",
    "\n",
    "print(o + p - q)"
   ]
  },
  {
   "cell_type": "code",
   "execution_count": 124,
   "metadata": {
    "tags": []
   },
   "outputs": [
    {
     "output_type": "stream",
     "name": "stdout",
     "text": "tensor([[0.2500, 0.2449, 0.2463, 0.2449],\n        [0.2449, 0.2500, 0.2413, 0.2411],\n        [0.2463, 0.2413, 0.2500, 0.2419],\n        [0.2449, 0.2411, 0.2419, 0.2500]])\ntensor(1.)\ntensor([[0.2500, 0.0212, 0.0212, 0.2500],\n        [0.0212, 0.2500, 0.0212, 0.0212],\n        [0.0212, 0.0212, 0.2500, 0.0212],\n        [0.2500, 0.0212, 0.0212, 0.2500]])\ntensor([[0.0625, 0.0052, 0.0052, 0.0612],\n        [0.0052, 0.0625, 0.0051, 0.0051],\n        [0.0052, 0.0051, 0.0625, 0.0051],\n        [0.0612, 0.0051, 0.0051, 0.0625]])\ntensor(0.2500)\ntensor([[0.2500, 0.0207, 0.0209, 0.2449],\n        [0.0207, 0.2500, 0.0204, 0.0204],\n        [0.0209, 0.0204, 0.2500, 0.0205],\n        [0.2449, 0.0204, 0.0205, 0.2500]])\n"
    }
   ],
   "source": [
    "print(rbf_a)\n",
    "print(torch.trace(rbf_a))\n",
    "print(rbf_b)\n",
    "aux = rbf_a * rbf_b\n",
    "print(aux)\n",
    "print(torch.trace(aux))\n",
    "print(aux/torch.trace(aux))"
   ]
  },
  {
   "cell_type": "code",
   "execution_count": null,
   "metadata": {},
   "outputs": [],
   "source": []
  }
 ]
}