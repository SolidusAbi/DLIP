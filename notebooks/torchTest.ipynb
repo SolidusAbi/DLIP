{
 "metadata": {
  "language_info": {
   "codemirror_mode": {
    "name": "ipython",
    "version": 3
   },
   "file_extension": ".py",
   "mimetype": "text/x-python",
   "name": "python",
   "nbconvert_exporter": "python",
   "pygments_lexer": "ipython3",
   "version": "3.7.4-final"
  },
  "orig_nbformat": 2,
  "kernelspec": {
   "name": "python3",
   "display_name": "Python 3"
  }
 },
 "nbformat": 4,
 "nbformat_minor": 2,
 "cells": [
  {
   "cell_type": "code",
   "execution_count": 1,
   "metadata": {},
   "outputs": [],
   "source": [
    "import torch\n",
    "import numpy as np\n",
    "\n",
    "project_dir = os.path.split(os.getcwd())[0]\n",
    "if project_dir not in sys.path:\n",
    "    sys.path.append(project_dir)\n",
    "\n",
    "from models.Paper import CNN\n",
    "from InformationPlane import TensorKernel, InformationPlane"
   ]
  },
  {
   "cell_type": "code",
   "execution_count": 2,
   "metadata": {
    "tags": []
   },
   "outputs": [
    {
     "output_type": "stream",
     "name": "stdout",
     "text": "tensor([[[[0.6841, 0.5151, 0.7895],\n          [0.8374, 0.8241, 0.0125],\n          [0.8338, 0.9763, 0.0990]]],\n\n\n        [[[0.1473, 0.5664, 0.7274],\n          [0.4248, 0.1794, 0.5112],\n          [0.9822, 0.1703, 0.6866]]],\n\n\n        [[[0.9035, 0.6938, 0.1934],\n          [0.5990, 0.9495, 0.8394],\n          [0.4295, 0.5775, 0.6440]]],\n\n\n        [[[0.9161, 0.1182, 0.7393],\n          [0.6121, 0.2502, 0.2034],\n          [0.2182, 0.6957, 0.5666]]]])\ntensor([[0., 1., 0.],\n        [0., 0., 1.],\n        [1., 0., 0.],\n        [0., 1., 0.]])\n"
    }
   ],
   "source": [
    "a = torch.rand((4,1,3,3), dtype=torch.float32)\n",
    "b = torch.zeros((4,3), dtype=torch.float32)\n",
    "b[0,1] = 1; b[1,2] = 1; b[2,0] = 1; b[3,1] = 1\n",
    "\n",
    "print(a)\n",
    "print(b)"
   ]
  },
  {
   "cell_type": "code",
   "execution_count": 3,
   "metadata": {
    "tags": []
   },
   "outputs": [],
   "source": [
    "a_flatten = torch.flatten(a, 1)\n",
    "\n",
    "# Tensor kernels definitions\n",
    "\n",
    "def RBF(x, y, sigma):\n",
    "    distance = torch.dist(x,y)\n",
    "    return torch.exp(-(distance**2)/(sigma**2))\n",
    "\n",
    "def RBF_2(x, sigma):\n",
    "    distance = torch.cdist(x, x)\n",
    "    return torch.exp(-(distance**2)/(sigma**2))\n",
    "\n",
    "# Ambas funciones dan el mismo resultado, lo doy por bueno\n"
   ]
  },
  {
   "cell_type": "code",
   "execution_count": 4,
   "metadata": {
    "tags": []
   },
   "outputs": [
    {
     "output_type": "stream",
     "name": "stdout",
     "text": "tensor([[0.2500, 0.2418, 0.2430, 0.2449],\n        [0.2418, 0.2500, 0.2420, 0.2431],\n        [0.2430, 0.2420, 0.2500, 0.2439],\n        [0.2449, 0.2431, 0.2439, 0.2500]])\ntensor([[0.2500, 0.0212, 0.0212, 0.2500],\n        [0.0212, 0.2500, 0.0212, 0.0212],\n        [0.0212, 0.0212, 0.2500, 0.0212],\n        [0.2500, 0.0212, 0.0212, 0.2500]])\n"
    }
   ],
   "source": [
    "rbf_a = RBF_2(a_flatten, 8)/len(a_flatten)\n",
    "rbf_b = RBF_2(b, 0.9)/len(b)\n",
    "\n",
    "print(rbf_a)\n",
    "print(rbf_b)"
   ]
  },
  {
   "cell_type": "code",
   "execution_count": 5,
   "metadata": {
    "tags": []
   },
   "outputs": [
    {
     "output_type": "stream",
     "name": "stdout",
     "text": "tensor([[1.0000, 0.9670, 0.9721, 0.9798],\n        [0.9670, 1.0000, 0.9681, 0.9723],\n        [0.9721, 0.9681, 1.0000, 0.9755],\n        [0.9798, 0.9723, 0.9755, 1.0000]])\n"
    }
   ],
   "source": [
    "k_0 = torch.zeros((len(a_flatten), len(a_flatten)))\n",
    "for i in range(len(a_flatten)):\n",
    "    for j in range(len(a_flatten)):\n",
    "        k_0[i,j] = RBF(a_flatten[i], a_flatten[j], 8)\n",
    "        \n",
    "print(k_0)"
   ]
  },
  {
   "cell_type": "code",
   "execution_count": 6,
   "metadata": {
    "tags": []
   },
   "outputs": [
    {
     "output_type": "stream",
     "name": "stdout",
     "text": "tensor([[1., 0., 0., 1.],\n        [0., 1., 0., 0.],\n        [0., 0., 1., 0.],\n        [1., 0., 0., 1.]])\n"
    }
   ],
   "source": [
    "k_1 = torch.zeros((len(b), len(b)))\n",
    "for i in range(len(b)):\n",
    "    for j in range(len(b)):\n",
    "        k_1[i,j] = RBF(b[i], b[j], 0.1)\n",
    "        \n",
    "print(k_1)"
   ]
  },
  {
   "cell_type": "markdown",
   "metadata": {},
   "source": [
    "# Kernel Aligment Loss"
   ]
  },
  {
   "cell_type": "code",
   "execution_count": 7,
   "metadata": {},
   "outputs": [],
   "source": [
    "def kernelAligmentLoss(x, y):\n",
    "    return ((torch.sum(x*y))/(torch.norm(x) * torch.norm(y))).item()"
   ]
  },
  {
   "cell_type": "code",
   "execution_count": 8,
   "metadata": {},
   "outputs": [
    {
     "output_type": "execute_result",
     "data": {
      "text/plain": "0.7025044560432434"
     },
     "metadata": {},
     "execution_count": 8
    }
   ],
   "source": [
    "kernelAligmentLoss(rbf_a, rbf_b)"
   ]
  },
  {
   "cell_type": "markdown",
   "metadata": {},
   "source": [
    "# Optimize sigma value"
   ]
  },
  {
   "cell_type": "code",
   "execution_count": 27,
   "metadata": {
    "tags": []
   },
   "outputs": [
    {
     "output_type": "stream",
     "name": "stdout",
     "text": "tensor([[0.6841, 0.5151, 0.7895, 0.8374, 0.8241, 0.0125, 0.8338, 0.9763, 0.0990],\n        [0.1473, 0.5664, 0.7274, 0.4248, 0.1794, 0.5112, 0.9822, 0.1703, 0.6866],\n        [0.9035, 0.6938, 0.1934, 0.5990, 0.9495, 0.8394, 0.4295, 0.5775, 0.6440],\n        [0.9161, 0.1182, 0.7393, 0.6121, 0.2502, 0.2034, 0.2182, 0.6957, 0.5666]])\ntensor(1.3888)\ntensor(1.3329)\n[ 0.13887542  0.322191    0.50550658  0.68882215  0.87213773  1.0554533\n  1.23876888  1.42208445  1.60540003  1.7887156   1.97203118  2.15534675\n  2.33866233  2.5219779   2.70529348  2.88860905  3.07192463  3.2552402\n  3.43855578  3.62187135  3.80518693  3.9885025   4.17181808  4.35513365\n  4.53844923  4.7217648   4.90508038  5.08839595  5.27171153  5.4550271\n  5.63834268  5.82165825  6.00497383  6.1882894   6.37160498  6.55492055\n  6.73823613  6.9215517   7.10486728  7.28818285  7.47149843  7.654814\n  7.83812958  8.02144516  8.20476073  8.38807631  8.57139188  8.75470746\n  8.93802303  9.12133861  9.30465418  9.48796976  9.67128533  9.85460091\n 10.03791648 10.22123206 10.40454763 10.58786321 10.77117878 10.95449436\n 11.13780993 11.32112551 11.50444108 11.68775666 11.87107223 12.05438781\n 12.23770338 12.42101896 12.60433453 12.78765011 12.97096568 13.15428126\n 13.33759683 13.52091241 13.70422798]\n[ 0.13328813  0.30922848  0.48516883  0.66110918  0.83704953  1.01298988\n  1.18893023  1.36487058  1.54081093  1.71675128  1.89269163  2.06863198\n  2.24457233  2.42051268  2.59645303  2.77239338  2.94833373  3.12427408\n  3.30021442  3.47615477  3.65209512  3.82803547  4.00397582  4.17991617\n  4.35585652  4.53179687  4.70773722  4.88367757  5.05961792  5.23555827\n  5.41149862  5.58743897  5.76337932  5.93931967  6.11526002  6.29120037\n  6.46714072  6.64308107  6.81902142  6.99496177  7.17090212  7.34684247\n  7.52278282  7.69872317  7.87466352  8.05060387  8.22654422  8.40248457\n  8.57842492  8.75436527  8.93030562  9.10624596  9.28218631  9.45812666\n  9.63406701  9.81000736  9.98594771 10.16188806 10.33782841 10.51376876\n 10.68970911 10.86564946 11.04158981 11.21753016 11.39347051 11.56941086\n 11.74535121 11.92129156 12.09723191 12.27317226 12.44911261 12.62505296\n 12.80099331 12.97693366 13.15287401]\n---------\n6\n"
    }
   ],
   "source": [
    "mean_distance = torch.tensor([torch.dist(a_flatten[i-1], a_flatten[i]) for i in range(1, len(a_flatten))]).mean()\n",
    "\n",
    "distance = torch.cdist(a_flatten, a_flatten)\n",
    "mean_distance_v2 = distance[distance != 0].mean()\n",
    "\n",
    "print(a_flatten)\n",
    "print(mean_distance)\n",
    "print(mean_distance_v2)\n",
    "\n",
    "possible_sigma_values = np.arange(mean_distance*0.1, mean_distance*10, (mean_distance*10 - mean_distance*0.1)/75)\n",
    "possible_sigma_values_v2 = np.arange(mean_distance_v2*0.1, mean_distance_v2*10, (mean_distance_v2*10 - mean_distance_v2*0.1)/75)\n",
    "\n",
    "print(possible_sigma_values)\n",
    "print(possible_sigma_values_v2)\n",
    "\n",
    "# print(possible_sigma_values_v2.tolist())\n",
    "\n",
    "test = list(map(lambda sigma: RBF_2(a_flatten, sigma), possible_sigma_values_v2.tolist()))\n",
    "# print(test[70])\n",
    "\n",
    "label_kernel = rbf_b\n",
    "result = np.array(list(map(lambda x: kernelAligmentLoss(x, label_kernel), test)))\n",
    "# print(result)\n",
    "\n",
    "where = np.argwhere(result == result.max()).item(0)\n",
    "print(\"---\"*3)\n",
    "print(where)\n",
    "\n",
    "best_sigma_value = possible_sigma_values_v2[where]\n",
    "# print(best_sigma_value)"
   ]
  },
  {
   "cell_type": "code",
   "execution_count": 11,
   "metadata": {
    "tags": []
   },
   "outputs": [
    {
     "output_type": "stream",
     "name": "stdout",
     "text": "tensor([[1.0000, 0.9670, 0.9721, 0.9798],\n        [0.9670, 1.0000, 0.9681, 0.9723],\n        [0.9721, 0.9681, 1.0000, 0.9755],\n        [0.9798, 0.9723, 0.9755, 1.0000]])\ntensor([[0.0000, 0.9670, 0.9721, 0.9798],\n        [0.9670, 1.0000, 0.9681, 0.9723],\n        [0.9721, 0.9681, 1.0000, 0.9755],\n        [0.9798, 0.9723, 0.9755, 1.0000]])\ntensor([[0.0000, 0.9670, 0.9721, 0.9798],\n        [0.9670, 1.0000, 0.9681, 0.9723],\n        [0.9721, 0.9681, 1.0000, 0.9755],\n        [0.9798, 0.9723, 0.9755, 1.0000]])\n"
    }
   ],
   "source": [
    "rbf_c = TensorKernel.RBF(a_flatten, 8)\n",
    "I = InformationPlane(rbf_c, rbf_b)\n",
    "print(rbf_c)\n",
    "rbf_c[0, 0] = 0\n",
    "print(rbf_c)\n",
    "print(I.input_kernel)"
   ]
  },
  {
   "cell_type": "code",
   "execution_count": 12,
   "metadata": {
    "tags": []
   },
   "outputs": [
    {
     "output_type": "stream",
     "name": "stdout",
     "text": "1.1889302283525467\n"
    }
   ],
   "source": [
    "print(I.optimizeSigmaValue(a_flatten))"
   ]
  },
  {
   "cell_type": "code",
   "execution_count": 13,
   "metadata": {
    "tags": []
   },
   "outputs": [
    {
     "output_type": "stream",
     "name": "stdout",
     "text": "0\n"
    }
   ],
   "source": [
    "y = None\n",
    "x = 0\n",
    "x = 1 if not(y is None) else x\n",
    "print(x)"
   ]
  },
  {
   "cell_type": "code",
   "execution_count": 14,
   "metadata": {
    "tags": []
   },
   "outputs": [
    {
     "output_type": "stream",
     "name": "stdout",
     "text": "tensor([[0.2500, 0.2418, 0.2430, 0.2449],\n        [0.2418, 0.2500, 0.2420, 0.2431],\n        [0.2430, 0.2420, 0.2500, 0.2439],\n        [0.2449, 0.2431, 0.2439, 0.2500]])\ntorch.return_types.eig(\neigenvalues=tensor([[0.9793, 0.0000],\n        [0.0048, 0.0000],\n        [0.0071, 0.0000],\n        [0.0087, 0.0000]]),\neigenvectors=tensor([]))\n"
    }
   ],
   "source": [
    "print(rbf_a)\n",
    "print(torch.eig(rbf_a))"
   ]
  },
  {
   "cell_type": "code",
   "execution_count": 15,
   "metadata": {
    "tags": []
   },
   "outputs": [
    {
     "output_type": "stream",
     "name": "stdout",
     "text": "[[0.25       0.24175647 0.24302378 0.2449473 ]\n [0.24175647 0.25       0.2420154  0.24306253]\n [0.24302378 0.2420154  0.25       0.2438743 ]\n [0.2449473  0.24306253 0.2438743  0.25      ]]\n[0.97934324 0.00484201 0.00713533 0.00867941]\n[[ 0.500201   -0.5513737  -0.49209008 -0.45125753]\n [ 0.49870908 -0.13816388 -0.1157353   0.84782386]\n [ 0.49978063 -0.12583424  0.8331146  -0.20076117]\n [ 0.5013058   0.81305814 -0.22443858 -0.19301881]]\n"
    }
   ],
   "source": [
    "import numpy as np\n",
    "from numpy import linalg as LA\n",
    "# A = np.array([[1,2,3],[3,2,1],[1,0,-1]])\n",
    "A = rbf_a.numpy()\n",
    "print(A)\n",
    "\n",
    "w, v = LA.eig(A)\n",
    "print(w)\n",
    "\n",
    "print(v)\n"
   ]
  },
  {
   "cell_type": "code",
   "execution_count": 16,
   "metadata": {},
   "outputs": [],
   "source": [
    "def matrixRenyiEntropy(A : np.array):\n",
    "    w, _ = LA.eig(A)\n",
    "    epsilon = 1e-10\n",
    "    w += epsilon\n",
    "    entropy = -np.sum(w * np.log2(w))\n",
    "    \n",
    "    return entropy\n",
    "\n",
    "def jointRenyiEntropy(x, y):\n",
    "    aux = x*y\n",
    "    return matrixRenyiEntropy(aux/np.trace(aux))\n",
    "    "
   ]
  },
  {
   "cell_type": "code",
   "execution_count": 17,
   "metadata": {
    "tags": []
   },
   "outputs": [
    {
     "output_type": "stream",
     "name": "stdout",
     "text": "0.17704624\n1.490485\n1.5317361\n0.13579512\n"
    }
   ],
   "source": [
    "o = matrixRenyiEntropy(rbf_a.numpy())\n",
    "p = matrixRenyiEntropy(rbf_b.numpy())\n",
    "q = jointRenyiEntropy(rbf_a.numpy(), rbf_b.numpy())\n",
    "print(o)\n",
    "print(p)\n",
    "print(q)\n",
    "\n",
    "print(o + p - q)"
   ]
  },
  {
   "cell_type": "code",
   "execution_count": 18,
   "metadata": {
    "tags": []
   },
   "outputs": [
    {
     "output_type": "stream",
     "name": "stdout",
     "text": "tensor([[0.2500, 0.2418, 0.2430, 0.2449],\n        [0.2418, 0.2500, 0.2420, 0.2431],\n        [0.2430, 0.2420, 0.2500, 0.2439],\n        [0.2449, 0.2431, 0.2439, 0.2500]])\ntensor(1.)\ntensor([[0.2500, 0.0212, 0.0212, 0.2500],\n        [0.0212, 0.2500, 0.0212, 0.0212],\n        [0.0212, 0.0212, 0.2500, 0.0212],\n        [0.2500, 0.0212, 0.0212, 0.2500]])\ntensor([[0.0625, 0.0051, 0.0051, 0.0612],\n        [0.0051, 0.0625, 0.0051, 0.0051],\n        [0.0051, 0.0051, 0.0625, 0.0052],\n        [0.0612, 0.0051, 0.0052, 0.0625]])\ntensor(0.2500)\ntensor([[0.2500, 0.0205, 0.0206, 0.2449],\n        [0.0205, 0.2500, 0.0205, 0.0206],\n        [0.0206, 0.0205, 0.2500, 0.0206],\n        [0.2449, 0.0206, 0.0206, 0.2500]])\n"
    }
   ],
   "source": [
    "print(rbf_a)\n",
    "print(torch.trace(rbf_a))\n",
    "print(rbf_b)\n",
    "aux = rbf_a * rbf_b\n",
    "print(aux)\n",
    "print(torch.trace(aux))\n",
    "print(aux/torch.trace(aux))"
   ]
  },
  {
   "cell_type": "code",
   "execution_count": 31,
   "metadata": {
    "tags": []
   },
   "outputs": [
    {
     "output_type": "stream",
     "name": "stdout",
     "text": "3\n"
    }
   ],
   "source": [
    "a = torch.rand((2,2,2))\n",
    "b = torch.rand((2,4))\n",
    "print(len(a.shape))"
   ]
  },
  {
   "cell_type": "code",
   "execution_count": 35,
   "metadata": {
    "tags": []
   },
   "outputs": [
    {
     "output_type": "stream",
     "name": "stdout",
     "text": "tensor([[[0.1457, 0.0186],\n         [0.6463, 0.8576]],\n\n        [[0.5854, 0.9182],\n         [0.5042, 0.4086]]])\ntensor([[0.1457, 0.0186, 0.6463, 0.8576],\n        [0.5854, 0.9182, 0.5042, 0.4086]])\ntensor([[[0.1457, 0.0186],\n         [0.6463, 0.8576]],\n\n        [[0.5854, 0.9182],\n         [0.5042, 0.4086]]])\n"
    }
   ],
   "source": [
    "print(a)\n",
    "shape = a.shape\n",
    "a = a.flatten(1)\n",
    "print(a)\n",
    "a = a.reshape(shape)\n",
    "print(a)"
   ]
  },
  {
   "cell_type": "code",
   "execution_count": 33,
   "metadata": {
    "tags": []
   },
   "outputs": [
    {
     "output_type": "stream",
     "name": "stdout",
     "text": "tensor([[0.7791, 0.1968, 0.8002, 0.0073],\n        [0.6714, 0.8587, 0.4921, 0.4997]])\ntensor([[0.7791, 0.1968, 0.8002, 0.0073],\n        [0.6714, 0.8587, 0.4921, 0.4997]])\n"
    }
   ],
   "source": [
    "print(b)\n",
    "print(b.flatten(1))"
   ]
  },
  {
   "cell_type": "code",
   "execution_count": null,
   "metadata": {},
   "outputs": [],
   "source": []
  }
 ]
}