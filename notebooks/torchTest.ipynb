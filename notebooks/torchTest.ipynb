{
 "metadata": {
  "language_info": {
   "codemirror_mode": {
    "name": "ipython",
    "version": 3
   },
   "file_extension": ".py",
   "mimetype": "text/x-python",
   "name": "python",
   "nbconvert_exporter": "python",
   "pygments_lexer": "ipython3",
   "version": "3.6.10-final"
  },
  "orig_nbformat": 2,
  "kernelspec": {
   "name": "python3",
   "display_name": "Python 3"
  }
 },
 "nbformat": 4,
 "nbformat_minor": 2,
 "cells": [
  {
   "cell_type": "code",
   "execution_count": 1,
   "metadata": {},
   "outputs": [],
   "source": [
    "import torch\n",
    "import numpy as np\n",
    "\n",
    "project_dir = os.path.split(os.getcwd())[0]\n",
    "if project_dir not in sys.path:\n",
    "    sys.path.append(project_dir)\n",
    "\n",
    "from models.Paper import CNN\n",
    "from InformationPlane import TensorKernel, MutualInformation"
   ]
  },
  {
   "cell_type": "code",
   "execution_count": 2,
   "metadata": {
    "tags": []
   },
   "outputs": [
    {
     "output_type": "stream",
     "name": "stdout",
     "text": "tensor([[[[0.2284, 0.4067, 0.4654],\n          [0.7116, 0.0048, 0.3853],\n          [0.1416, 0.5270, 0.9954]]],\n\n\n        [[[0.1680, 0.2708, 0.2652],\n          [0.5976, 0.7449, 0.2521],\n          [0.2363, 0.2844, 0.1719]]],\n\n\n        [[[0.3211, 0.0410, 0.7893],\n          [0.5093, 0.3024, 0.8547],\n          [0.5465, 0.7314, 0.3550]]],\n\n\n        [[[0.4949, 0.0583, 0.5554],\n          [0.2544, 0.3589, 0.2529],\n          [0.6843, 0.3039, 0.6006]]]])\ntensor([[0., 1., 0.],\n        [0., 0., 1.],\n        [1., 0., 0.],\n        [1., 0., 0.]])\n"
    }
   ],
   "source": [
    "a = torch.rand((4,1,3,3), dtype=torch.float32)\n",
    "b = torch.zeros((4,3), dtype=torch.float32)\n",
    "b[0,1] = 1; b[1,2] = 1; b[2,0] = 1; b[3,0] = 1\n",
    "\n",
    "print(a)\n",
    "print(b)"
   ]
  },
  {
   "cell_type": "code",
   "execution_count": 3,
   "metadata": {
    "tags": []
   },
   "outputs": [],
   "source": [
    "a_flatten = torch.flatten(a, 1)\n",
    "\n",
    "# Tensor kernels definitions\n",
    "\n",
    "def RBF(x, y, sigma):\n",
    "    distance = torch.dist(x,y)\n",
    "    return torch.exp(-(distance**2)/(sigma**2))\n",
    "\n",
    "def RBF_2(x, sigma):\n",
    "    distance = torch.cdist(x, x)\n",
    "    return torch.exp(-(distance**2)/(sigma**2))\n",
    "\n",
    "# Ambas funciones dan el mismo resultado, lo doy por bueno\n"
   ]
  },
  {
   "cell_type": "code",
   "execution_count": 4,
   "metadata": {
    "tags": []
   },
   "outputs": [
    {
     "output_type": "stream",
     "name": "stdout",
     "text": "tensor([[1.0000, 0.9786, 0.9812, 0.9837],\n        [0.9786, 1.0000, 0.9807, 0.9862],\n        [0.9812, 0.9807, 1.0000, 0.9879],\n        [0.9837, 0.9862, 0.9879, 1.0000]])\ntensor([[1.0000, 0.0847, 0.0847, 0.0847],\n        [0.0847, 1.0000, 0.0847, 0.0847],\n        [0.0847, 0.0847, 1.0000, 1.0000],\n        [0.0847, 0.0847, 1.0000, 1.0000]])\n"
    }
   ],
   "source": [
    "rbf_a = RBF_2(a_flatten, 8)\n",
    "rbf_b = RBF_2(b, 0.9)\n",
    "\n",
    "print(rbf_a)\n",
    "print(rbf_b)"
   ]
  },
  {
   "cell_type": "code",
   "execution_count": 5,
   "metadata": {
    "tags": []
   },
   "outputs": [
    {
     "output_type": "stream",
     "name": "stdout",
     "text": "tensor([[1.0000, 0.9786, 0.9812, 0.9837],\n        [0.9786, 1.0000, 0.9807, 0.9862],\n        [0.9812, 0.9807, 1.0000, 0.9879],\n        [0.9837, 0.9862, 0.9879, 1.0000]])\n"
    }
   ],
   "source": [
    "k_0 = torch.zeros((len(a_flatten), len(a_flatten)))\n",
    "for i in range(len(a_flatten)):\n",
    "    for j in range(len(a_flatten)):\n",
    "        k_0[i,j] = RBF(a_flatten[i], a_flatten[j], 8)\n",
    "        \n",
    "print(k_0)"
   ]
  },
  {
   "cell_type": "code",
   "execution_count": 6,
   "metadata": {
    "tags": []
   },
   "outputs": [
    {
     "output_type": "stream",
     "name": "stdout",
     "text": "tensor([[1., 0., 0., 0.],\n        [0., 1., 0., 0.],\n        [0., 0., 1., 1.],\n        [0., 0., 1., 1.]])\n"
    }
   ],
   "source": [
    "k_1 = torch.zeros((len(b), len(b)))\n",
    "for i in range(len(b)):\n",
    "    for j in range(len(b)):\n",
    "        k_1[i,j] = RBF(b[i], b[j], 0.1)\n",
    "        \n",
    "print(k_1)"
   ]
  },
  {
   "cell_type": "markdown",
   "metadata": {},
   "source": [
    "# Kernel Aligment Loss"
   ]
  },
  {
   "cell_type": "code",
   "execution_count": 7,
   "metadata": {},
   "outputs": [],
   "source": [
    "def kernelAligmentLoss(x, y):\n",
    "    return ((torch.sum(x*y))/(torch.norm(x) * torch.norm(y))).item()"
   ]
  },
  {
   "cell_type": "code",
   "execution_count": 8,
   "metadata": {},
   "outputs": [
    {
     "output_type": "execute_result",
     "data": {
      "text/plain": "0.6995184421539307"
     },
     "metadata": {},
     "execution_count": 8
    }
   ],
   "source": [
    "kernelAligmentLoss(rbf_a, rbf_b)"
   ]
  },
  {
   "cell_type": "markdown",
   "metadata": {},
   "source": [
    "# Optimize sigma value"
   ]
  },
  {
   "cell_type": "code",
   "execution_count": 9,
   "metadata": {
    "tags": []
   },
   "outputs": [
    {
     "output_type": "stream",
     "name": "stdout",
     "text": "tensor([[0.2284, 0.4067, 0.4654, 0.7116, 0.0048, 0.3853, 0.1416, 0.5270, 0.9954],\n        [0.1680, 0.2708, 0.2652, 0.5976, 0.7449, 0.2521, 0.2363, 0.2844, 0.1719],\n        [0.3211, 0.0410, 0.7893, 0.5093, 0.3024, 0.8547, 0.5465, 0.7314, 0.3550],\n        [0.4949, 0.0583, 0.5554, 0.2544, 0.3589, 0.2529, 0.6843, 0.3039, 0.6006]])\ntensor(1.0587)\ntensor(1.0409)\n[ 0.10587024  0.24561894  0.38536764  0.52511634  0.66486504  0.80461374\n  0.94436244  1.08411114  1.22385984  1.36360854  1.50335724  1.64310594\n  1.78285464  1.92260334  2.06235204  2.20210074  2.34184944  2.48159814\n  2.62134684  2.76109554  2.90084424  3.04059294  3.18034164  3.32009034\n  3.45983904  3.59958774  3.73933644  3.87908514  4.01883384  4.15858254\n  4.29833124  4.43807994  4.57782864  4.71757734  4.85732604  4.99707474\n  5.13682344  5.27657214  5.41632084  5.55606954  5.69581824  5.83556694\n  5.97531564  6.11506434  6.25481304  6.39456174  6.53431044  6.67405914\n  6.81380784  6.95355654  7.09330524  7.23305394  7.37280264  7.51255134\n  7.65230004  7.79204874  7.93179744  8.07154614  8.21129484  8.35104354\n  8.49079224  8.63054094  8.77028964  8.91003834  9.04978704  9.18953574\n  9.32928444  9.46903314  9.60878184  9.74853054  9.88827924 10.02802794\n 10.16777664 10.30752534 10.44727404]\n[ 0.10409477  0.24149987  0.37890498  0.51631008  0.65371519  0.79112029\n  0.9285254   1.0659305   1.20333561  1.34074071  1.47814582  1.61555092\n  1.75295603  1.89036113  2.02776624  2.16517134  2.30257645  2.43998155\n  2.57738665  2.71479176  2.85219686  2.98960197  3.12700707  3.26441218\n  3.40181728  3.53922239  3.67662749  3.8140326   3.9514377   4.08884281\n  4.22624791  4.36365302  4.50105812  4.63846323  4.77586833  4.91327344\n  5.05067854  5.18808365  5.32548875  5.46289386  5.60029896  5.73770407\n  5.87510917  6.01251428  6.14991938  6.28732449  6.42472959  6.5621347\n  6.6995398   6.83694491  6.97435001  7.11175512  7.24916022  7.38656533\n  7.52397043  7.66137554  7.79878064  7.93618575  8.07359085  8.21099596\n  8.34840106  8.48580617  8.62321127  8.76061638  8.89802148  9.03542659\n  9.17283169  9.3102368   9.4476419   9.58504701  9.72245211  9.85985722\n  9.99726232 10.13466743 10.27207253]\ntensor([[1.0000, 0.9854, 0.9873, 0.9889],\n        [0.9854, 1.0000, 0.9869, 0.9907],\n        [0.9873, 0.9869, 1.0000, 0.9918],\n        [0.9889, 0.9907, 0.9918, 1.0000]])\n[0.81166333 0.81166404 0.8135711  0.83538043 0.87745249 0.90667897\n 0.90795511 0.89043599 0.8664301  0.84273624 0.82183683 0.80419302\n 0.78953004 0.77738082 0.76728535 0.75884908 0.75175124 0.74573696\n 0.74060422 0.73619401 0.73238003 0.72906142 0.72615749 0.72360247\n 0.72134382 0.7193374  0.71754754 0.71594429 0.71450287 0.7132023\n 0.71202493 0.71095562 0.70998174 0.7090922  0.7082777  0.7075299\n 0.70684201 0.70620745 0.705621   0.70507807 0.70457423 0.70410609\n 0.70367008 0.70326364 0.7028839  0.70252866 0.70219594 0.70188367\n 0.70159036 0.70131463 0.70105499 0.70081002 0.70057887 0.70036042\n 0.70015395 0.69995832 0.69977301 0.69959712 0.69943011 0.69927144\n 0.6991204  0.69897681 0.6988399  0.69870937 0.69858485 0.69846594\n 0.69835234 0.69824374 0.69813973 0.69804031 0.697945   0.69785374\n 0.69776601 0.6976819  0.69760114]\n6\n0.9285253956913948\n"
    }
   ],
   "source": [
    "mean_distance = torch.tensor([torch.dist(a_flatten[i-1], a_flatten[i]) for i in range(1, len(a_flatten))]).mean()\n",
    "\n",
    "distance = torch.cdist(a_flatten, a_flatten)\n",
    "mean_distance_v2 = distance[distance != 0].mean()\n",
    "\n",
    "print(a_flatten)\n",
    "print(mean_distance)\n",
    "print(mean_distance_v2)\n",
    "\n",
    "possible_sigma_values = np.arange(mean_distance*0.1, mean_distance*10, (mean_distance*10 - mean_distance*0.1)/75)\n",
    "possible_sigma_values_v2 = np.arange(mean_distance_v2*0.1, mean_distance_v2*10, (mean_distance_v2*10 - mean_distance_v2*0.1)/75)\n",
    "\n",
    "print(possible_sigma_values)\n",
    "print(possible_sigma_values_v2)\n",
    "\n",
    "# print(possible_sigma_values_v2.tolist())\n",
    "\n",
    "test = list(map(lambda sigma: RBF_2(a_flatten, sigma), possible_sigma_values_v2.tolist()))\n",
    "print(test[70])\n",
    "\n",
    "label_kernel = rbf_b\n",
    "result = np.array(list(map(lambda x: kernelAligmentLoss(x, label_kernel), test)))\n",
    "print(result)\n",
    "\n",
    "where = np.argwhere(result == result.max()).item()\n",
    "print(where)\n",
    "\n",
    "best_sigma_value = possible_sigma_values_v2[where]\n",
    "print(best_sigma_value)"
   ]
  },
  {
   "cell_type": "code",
   "execution_count": 10,
   "metadata": {
    "tags": []
   },
   "outputs": [
    {
     "output_type": "stream",
     "name": "stdout",
     "text": "tensor([[1.0000, 0.9786, 0.9812, 0.9837],\n        [0.9786, 1.0000, 0.9807, 0.9862],\n        [0.9812, 0.9807, 1.0000, 0.9879],\n        [0.9837, 0.9862, 0.9879, 1.0000]])\ntensor([[0.0000, 0.9786, 0.9812, 0.9837],\n        [0.9786, 1.0000, 0.9807, 0.9862],\n        [0.9812, 0.9807, 1.0000, 0.9879],\n        [0.9837, 0.9862, 0.9879, 1.0000]])\ntensor([[0.0000, 0.9786, 0.9812, 0.9837],\n        [0.9786, 1.0000, 0.9807, 0.9862],\n        [0.9812, 0.9807, 1.0000, 0.9879],\n        [0.9837, 0.9862, 0.9879, 1.0000]])\n"
    }
   ],
   "source": [
    "rbf_c = TensorKernel.RBF(a_flatten, 8)\n",
    "I = MutualInformation(rbf_c, rbf_b)\n",
    "print(rbf_c)\n",
    "rbf_c[0, 0] = 0\n",
    "print(rbf_c)\n",
    "print(I.input_kernel)"
   ]
  },
  {
   "cell_type": "code",
   "execution_count": 11,
   "metadata": {},
   "outputs": [
    {
     "output_type": "error",
     "ename": "NameError",
     "evalue": "name 'np' is not defined",
     "traceback": [
      "\u001b[0;31m---------------------------------------------------------------------------\u001b[0m",
      "\u001b[0;31mNameError\u001b[0m                                 Traceback (most recent call last)",
      "\u001b[0;32m<ipython-input-11-9be09e7c0dd5>\u001b[0m in \u001b[0;36m<module>\u001b[0;34m\u001b[0m\n\u001b[0;32m----> 1\u001b[0;31m \u001b[0mprint\u001b[0m\u001b[0;34m(\u001b[0m\u001b[0mI\u001b[0m\u001b[0;34m.\u001b[0m\u001b[0moptimizeSigmaValue\u001b[0m\u001b[0;34m(\u001b[0m\u001b[0ma_flatten\u001b[0m\u001b[0;34m)\u001b[0m\u001b[0;34m)\u001b[0m\u001b[0;34m\u001b[0m\u001b[0;34m\u001b[0m\u001b[0m\n\u001b[0m",
      "\u001b[0;32m~/Workspace/Projects/IPLDL/InformationPlane.py\u001b[0m in \u001b[0;36moptimizeSigmaValue\u001b[0;34m(self, x, n_sigmas)\u001b[0m\n\u001b[1;32m     60\u001b[0m         \u001b[0mdistance\u001b[0m \u001b[0;34m=\u001b[0m \u001b[0mtorch\u001b[0m\u001b[0;34m.\u001b[0m\u001b[0mcdist\u001b[0m\u001b[0;34m(\u001b[0m\u001b[0mx\u001b[0m\u001b[0;34m,\u001b[0m \u001b[0mx\u001b[0m\u001b[0;34m)\u001b[0m\u001b[0;34m\u001b[0m\u001b[0;34m\u001b[0m\u001b[0m\n\u001b[1;32m     61\u001b[0m         \u001b[0mmean_distance\u001b[0m \u001b[0;34m=\u001b[0m \u001b[0mdistance\u001b[0m\u001b[0;34m[\u001b[0m\u001b[0mdistance\u001b[0m \u001b[0;34m!=\u001b[0m \u001b[0;36m0\u001b[0m\u001b[0;34m]\u001b[0m\u001b[0;34m.\u001b[0m\u001b[0mmean\u001b[0m\u001b[0;34m(\u001b[0m\u001b[0;34m)\u001b[0m\u001b[0;34m\u001b[0m\u001b[0;34m\u001b[0m\u001b[0m\n\u001b[0;32m---> 62\u001b[0;31m         \u001b[0msigma_values\u001b[0m \u001b[0;34m=\u001b[0m \u001b[0mnp\u001b[0m\u001b[0;34m.\u001b[0m\u001b[0marange\u001b[0m\u001b[0;34m(\u001b[0m\u001b[0mmean_distance\u001b[0m\u001b[0;34m*\u001b[0m\u001b[0;36m0.1\u001b[0m\u001b[0;34m,\u001b[0m \u001b[0mmean_distance\u001b[0m\u001b[0;34m*\u001b[0m\u001b[0;36m10\u001b[0m\u001b[0;34m,\u001b[0m \u001b[0;34m(\u001b[0m\u001b[0mmean_distance\u001b[0m\u001b[0;34m*\u001b[0m\u001b[0;36m10\u001b[0m \u001b[0;34m-\u001b[0m \u001b[0mmean_distance\u001b[0m\u001b[0;34m*\u001b[0m\u001b[0;36m0.1\u001b[0m\u001b[0;34m)\u001b[0m\u001b[0;34m/\u001b[0m\u001b[0mn_sigmas\u001b[0m\u001b[0;34m)\u001b[0m\u001b[0;34m\u001b[0m\u001b[0;34m\u001b[0m\u001b[0m\n\u001b[0m\u001b[1;32m     63\u001b[0m \u001b[0;34m\u001b[0m\u001b[0m\n\u001b[1;32m     64\u001b[0m         \u001b[0mrbf_result\u001b[0m \u001b[0;34m=\u001b[0m \u001b[0mlist\u001b[0m\u001b[0;34m(\u001b[0m \u001b[0mmap\u001b[0m\u001b[0;34m(\u001b[0m\u001b[0;32mlambda\u001b[0m \u001b[0msigma\u001b[0m\u001b[0;34m:\u001b[0m \u001b[0mTensorKernel\u001b[0m\u001b[0;34m.\u001b[0m\u001b[0mRBF\u001b[0m\u001b[0;34m(\u001b[0m\u001b[0mx\u001b[0m\u001b[0;34m,\u001b[0m \u001b[0msigma\u001b[0m\u001b[0;34m)\u001b[0m\u001b[0;34m,\u001b[0m \u001b[0msigma_values\u001b[0m\u001b[0;34m.\u001b[0m\u001b[0mtolist\u001b[0m\u001b[0;34m(\u001b[0m\u001b[0;34m)\u001b[0m\u001b[0;34m)\u001b[0m \u001b[0;34m)\u001b[0m\u001b[0;34m\u001b[0m\u001b[0;34m\u001b[0m\u001b[0m\n",
      "\u001b[0;31mNameError\u001b[0m: name 'np' is not defined"
     ]
    }
   ],
   "source": [
    "print(I.optimizeSigmaValue(a_flatten))"
   ]
  },
  {
   "cell_type": "code",
   "execution_count": null,
   "metadata": {},
   "outputs": [],
   "source": []
  }
 ]
}