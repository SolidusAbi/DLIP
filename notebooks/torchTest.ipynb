{
 "metadata": {
  "language_info": {
   "codemirror_mode": {
    "name": "ipython",
    "version": 3
   },
   "file_extension": ".py",
   "mimetype": "text/x-python",
   "name": "python",
   "nbconvert_exporter": "python",
   "pygments_lexer": "ipython3",
   "version": "3.6.10-final"
  },
  "orig_nbformat": 2,
  "kernelspec": {
   "name": "python3",
   "display_name": "Python 3"
  }
 },
 "nbformat": 4,
 "nbformat_minor": 2,
 "cells": [
  {
   "cell_type": "code",
   "execution_count": 2,
   "metadata": {},
   "outputs": [],
   "source": [
    "import torch"
   ]
  },
  {
   "cell_type": "code",
   "execution_count": 3,
   "metadata": {
    "tags": []
   },
   "outputs": [
    {
     "output_type": "stream",
     "name": "stdout",
     "text": "tensor([[[[0.8534, 0.8146, 0.7766],\n          [0.2181, 0.1874, 0.8970],\n          [0.1465, 0.9920, 0.0850]]],\n\n\n        [[[0.3299, 0.3058, 0.4199],\n          [0.6416, 0.8732, 0.2772],\n          [0.2479, 0.0907, 0.1181]]],\n\n\n        [[[0.3180, 0.2701, 0.6243],\n          [0.8261, 0.4445, 0.0319],\n          [0.0382, 0.6680, 0.7375]]],\n\n\n        [[[0.9917, 0.7217, 0.1761],\n          [0.7214, 0.2656, 0.6779],\n          [0.0600, 0.7625, 0.2036]]]])\ntensor([[0., 1., 0.],\n        [0., 0., 1.],\n        [1., 0., 0.],\n        [1., 0., 0.]])\n"
    }
   ],
   "source": [
    "a = torch.rand((4,1,3,3), dtype=torch.float32)\n",
    "b = torch.zeros((4,3), dtype=torch.float32)\n",
    "b[0,1] = 1; b[1,2] = 1; b[2,0] = 1; b[3,0] = 1\n",
    "\n",
    "print(a)\n",
    "print(b)"
   ]
  },
  {
   "cell_type": "code",
   "execution_count": 29,
   "metadata": {
    "tags": []
   },
   "outputs": [],
   "source": [
    "a_flatten = torch.flatten(a, 1)\n",
    "\n",
    "# Tensor kernels definitions\n",
    "\n",
    "def RBF(x, y, sigma):\n",
    "    distance = torch.dist(x,y)\n",
    "    return torch.exp(-(distance**2)/(sigma**2))\n",
    "\n",
    "def RBF_2(x, sigma):\n",
    "    distance = torch.cdist(x, x)\n",
    "    return torch.exp(-(distance**2)/(sigma**2))\n",
    "\n",
    "# Ambas funciones dan el mismo resultado, lo doy por bueno\n"
   ]
  },
  {
   "cell_type": "code",
   "execution_count": 30,
   "metadata": {
    "tags": []
   },
   "outputs": [
    {
     "output_type": "stream",
     "name": "stdout",
     "text": "tensor([[-0.0000, -2.5180, -2.3333, -0.7701],\n        [-2.5180, -0.0000, -1.0821, -1.7004],\n        [-2.3333, -1.0821, -0.0000, -1.6133],\n        [-0.7701, -1.7004, -1.6133, -0.0000]])\ntensor([[-0.0000, -2.0000, -2.0000, -2.0000],\n        [-2.0000, -0.0000, -2.0000, -2.0000],\n        [-2.0000, -2.0000, -0.0000, -0.0000],\n        [-2.0000, -2.0000, -0.0000, -0.0000]])\ntensor([[1.0000, 0.9614, 0.9642, 0.9880],\n        [0.9614, 1.0000, 0.9832, 0.9738],\n        [0.9642, 0.9832, 1.0000, 0.9751],\n        [0.9880, 0.9738, 0.9751, 1.0000]])\ntensor([[1.0000, 0.0847, 0.0847, 0.0847],\n        [0.0847, 1.0000, 0.0847, 0.0847],\n        [0.0847, 0.0847, 1.0000, 1.0000],\n        [0.0847, 0.0847, 1.0000, 1.0000]])\n2.5179342399999998\n"
    }
   ],
   "source": [
    "rbf_a = RBF_2(a_flatten, 8)\n",
    "rbf_b = RBF_2(b, 0.9)\n",
    "\n",
    "print(rbf_a)\n",
    "print(rbf_b)\n",
    "print(1.5868*1.5868)"
   ]
  },
  {
   "cell_type": "code",
   "execution_count": 15,
   "metadata": {
    "tags": []
   },
   "outputs": [
    {
     "output_type": "stream",
     "name": "stdout",
     "text": "tensor([[1.0000, 0.9614, 0.9642, 0.9880],\n        [0.9614, 1.0000, 0.9832, 0.9738],\n        [0.9642, 0.9832, 1.0000, 0.9751],\n        [0.9880, 0.9738, 0.9751, 1.0000]])\n"
    }
   ],
   "source": [
    "k_0 = torch.zeros((len(a_flatten), len(a_flatten)))\n",
    "for i in range(len(a_flatten)):\n",
    "    for j in range(len(a_flatten)):\n",
    "        k_0[i,j] = RBF(a_flatten[i], a_flatten[j], 8)\n",
    "        \n",
    "print(k_0)"
   ]
  },
  {
   "cell_type": "code",
   "execution_count": 33,
   "metadata": {
    "tags": []
   },
   "outputs": [
    {
     "output_type": "stream",
     "name": "stdout",
     "text": "tensor([[0.0000, 1.4142, 1.4142, 1.4142],\n        [1.4142, 0.0000, 1.4142, 1.4142],\n        [1.4142, 1.4142, 0.0000, 0.0000],\n        [1.4142, 1.4142, 0.0000, 0.0000]])\n"
    }
   ],
   "source": [
    "k_1 = torch.zeros((len(b), len(b)))\n",
    "for i in range(len(b)):\n",
    "    for j in range(len(b)):\n",
    "        k_1[i,j] = RBF(b[i], b[j], 0.1)\n",
    "        \n",
    "print(k_1)"
   ]
  },
  {
   "cell_type": "code",
   "execution_count": 16,
   "metadata": {},
   "outputs": [],
   "source": [
    "def kernelAligmentLoss(x, y):\n",
    "    return (torch.sum(x*y))/(torch.norm(x) * torch.norm(y))"
   ]
  },
  {
   "cell_type": "code",
   "execution_count": 21,
   "metadata": {},
   "outputs": [
    {
     "output_type": "execute_result",
     "data": {
      "text/plain": "tensor(0.7008)"
     },
     "metadata": {},
     "execution_count": 21
    }
   ],
   "source": [
    "kernelAligmentLoss(rbf_a, rbf_b)"
   ]
  },
  {
   "cell_type": "code",
   "execution_count": 245,
   "metadata": {
    "tags": []
   },
   "outputs": [
    {
     "output_type": "stream",
     "name": "stdout",
     "text": "tensor([0.9835, 0.7540, 1.4057])\n"
    }
   ],
   "source": [
    "a = torch.tensor([torch.dist(a_flatten[i-1], a_flatten[i]) for i in range(1, len(a_flatten))])\n",
    "print(a)"
   ]
  },
  {
   "cell_type": "code",
   "execution_count": 240,
   "metadata": {},
   "outputs": [
    {
     "output_type": "error",
     "ename": "NameError",
     "evalue": "name 'q' is not defined",
     "traceback": [
      "\u001b[0;31m---------------------------------------------------------------------------\u001b[0m",
      "\u001b[0;31mNameError\u001b[0m                                 Traceback (most recent call last)",
      "\u001b[0;32m<ipython-input-240-9f7999f3dbd2>\u001b[0m in \u001b[0;36m<module>\u001b[0;34m\u001b[0m\n\u001b[0;32m----> 1\u001b[0;31m \u001b[0mp\u001b[0m \u001b[0;34m=\u001b[0m \u001b[0;34m[\u001b[0m\u001b[0mq\u001b[0m\u001b[0;34m.\u001b[0m\u001b[0mindex\u001b[0m\u001b[0;34m(\u001b[0m\u001b[0mv\u001b[0m\u001b[0;34m)\u001b[0m \u001b[0;32mif\u001b[0m \u001b[0mv\u001b[0m \u001b[0;32min\u001b[0m \u001b[0mq\u001b[0m \u001b[0;32melse\u001b[0m \u001b[0;36m99999\u001b[0m \u001b[0;32mfor\u001b[0m \u001b[0mv\u001b[0m \u001b[0;32min\u001b[0m \u001b[0mrange\u001b[0m\u001b[0;34m(\u001b[0m\u001b[0;36m1\u001b[0m\u001b[0;34m)\u001b[0m\u001b[0;34m]\u001b[0m\u001b[0;34m\u001b[0m\u001b[0;34m\u001b[0m\u001b[0m\n\u001b[0m",
      "\u001b[0;32m<ipython-input-240-9f7999f3dbd2>\u001b[0m in \u001b[0;36m<listcomp>\u001b[0;34m(.0)\u001b[0m\n\u001b[0;32m----> 1\u001b[0;31m \u001b[0mp\u001b[0m \u001b[0;34m=\u001b[0m \u001b[0;34m[\u001b[0m\u001b[0mq\u001b[0m\u001b[0;34m.\u001b[0m\u001b[0mindex\u001b[0m\u001b[0;34m(\u001b[0m\u001b[0mv\u001b[0m\u001b[0;34m)\u001b[0m \u001b[0;32mif\u001b[0m \u001b[0mv\u001b[0m \u001b[0;32min\u001b[0m \u001b[0mq\u001b[0m \u001b[0;32melse\u001b[0m \u001b[0;36m99999\u001b[0m \u001b[0;32mfor\u001b[0m \u001b[0mv\u001b[0m \u001b[0;32min\u001b[0m \u001b[0mrange\u001b[0m\u001b[0;34m(\u001b[0m\u001b[0;36m1\u001b[0m\u001b[0;34m)\u001b[0m\u001b[0;34m]\u001b[0m\u001b[0;34m\u001b[0m\u001b[0;34m\u001b[0m\u001b[0m\n\u001b[0m",
      "\u001b[0;31mNameError\u001b[0m: name 'q' is not defined"
     ]
    }
   ],
   "source": [
    "p = [q.index(v) if v in q else 99999 for v in range(1)]"
   ]
  }
 ]
}